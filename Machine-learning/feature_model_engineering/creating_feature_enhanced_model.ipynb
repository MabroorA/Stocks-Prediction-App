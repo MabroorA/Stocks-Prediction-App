{
 "cells": [
  {
   "cell_type": "code",
   "execution_count": null,
   "metadata": {},
   "outputs": [],
   "source": [
    "from flask.json import jsonify\n",
    "import pandas as pd\n",
    "from sklearn.preprocessing import MinMaxScaler\n",
    "import numpy as np\n",
    "from tensorflow.keras.models import Sequential\n",
    "from tensorflow.keras.layers import Dense, LSTM"
   ]
  },
  {
   "cell_type": "code",
   "execution_count": null,
   "metadata": {},
   "outputs": [],
   "source": []
  },
  {
   "cell_type": "code",
   "execution_count": null,
   "metadata": {},
   "outputs": [],
   "source": [
    "def preprocess_data(data):\n",
    "    try:\n",
    "        # Convert JSON data to DataFrame\n",
    "        df = pd.DataFrame(data['historical'])\n",
    "        \n",
    "        # Set 'date' column as index\n",
    "        df['date'] = pd.to_datetime(df['date'])\n",
    "        df.set_index('date', inplace=True)\n",
    "        \n",
    "        # Select only 'close' column for prediction\n",
    "        df = df[['close']]\n",
    "        \n",
    "        # Scale the data\n",
    "        scaler = MinMaxScaler(feature_range=(0, 1))\n",
    "        data_scaled = scaler.fit_transform(df)\n",
    "        \n",
    "        return data_scaled, scaler\n",
    "    except Exception as e:\n",
    "        print(\"Error during data preprocessing:\", e)\n",
    "        return None, None"
   ]
  }
 ],
 "metadata": {
  "language_info": {
   "name": "python"
  }
 },
 "nbformat": 4,
 "nbformat_minor": 2
}
