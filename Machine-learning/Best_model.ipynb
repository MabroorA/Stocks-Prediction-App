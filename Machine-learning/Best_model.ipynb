{
 "cells": [
  {
   "cell_type": "code",
   "execution_count": 1,
   "metadata": {},
   "outputs": [],
   "source": [
    "import pandas as pd\n",
    "import xgboost as xgb\n",
    "import matplotlib.pyplot as plt\n"
   ]
  },
  {
   "cell_type": "code",
   "execution_count": 82,
   "metadata": {},
   "outputs": [],
   "source": [
    "from flask.json import jsonify\n",
    "import pandas as pd\n",
    "from sklearn.model_selection import train_test_split\n",
    "from sklearn.preprocessing import MinMaxScaler\n",
    "import numpy as np\n",
    "from tensorflow.keras.models import Sequential\n",
    "from tensorflow.keras.layers import Dense, LSTM\n",
    "import matplotlib.pyplot as plt"
   ]
  },
  {
   "cell_type": "code",
   "execution_count": 116,
   "metadata": {},
   "outputs": [
    {
     "data": {
      "text/plain": [
       "1196"
      ]
     },
     "execution_count": 116,
     "metadata": {},
     "output_type": "execute_result"
    }
   ],
   "source": [
    "\n",
    "df = pd.read_csv(\"ticker_data.csv\")\n",
    "df_close = df[[\"close\"]]\n",
    "df_close_values = df_close.values\n",
    "# Get the number of rows to train the model on\n",
    "training_data_len = int(np.ceil( len(df_close) * .95 ))\n",
    "\n",
    "training_data_len"
   ]
  },
  {
   "cell_type": "code",
   "execution_count": 117,
   "metadata": {},
   "outputs": [
    {
     "data": {
      "text/plain": [
       "array([[0.433663  ],\n",
       "       [0.42228028],\n",
       "       [0.43039746],\n",
       "       ...,\n",
       "       [0.93580892],\n",
       "       [0.90819183],\n",
       "       [0.91938795]])"
      ]
     },
     "execution_count": 117,
     "metadata": {},
     "output_type": "execute_result"
    }
   ],
   "source": [
    "# Scale the data\n",
    "from sklearn.preprocessing import MinMaxScaler\n",
    "\n",
    "scaler = MinMaxScaler(feature_range=(0,1))\n",
    "scaled_data = scaler.fit_transform(df_close_values)\n",
    "\n",
    "scaled_data"
   ]
  },
  {
   "cell_type": "code",
   "execution_count": 118,
   "metadata": {},
   "outputs": [
    {
     "name": "stdout",
     "output_type": "stream",
     "text": [
      "[array([0.433663  , 0.42228028, 0.43039746, 0.43720843, 0.44224669,\n",
      "       0.43823475, 0.44933756, 0.39550289, 0.40641911, 0.39354357,\n",
      "       0.40735212, 0.40306027, 0.39121105, 0.39848852, 0.39494309,\n",
      "       0.4058593 , 0.40847173, 0.39979474, 0.4056727 , 0.40688561,\n",
      "       0.38244075, 0.38561299, 0.36191454, 0.36172793, 0.32692667,\n",
      "       0.34381414, 0.35351745, 0.36667289, 0.35277104, 0.35995522,\n",
      "       0.37180444, 0.37087143, 0.33560366, 0.33457735, 0.31834297,\n",
      "       0.311532  , 0.31041239, 0.28746035, 0.29884307, 0.33821609,\n",
      "       0.32757977, 0.33411084, 0.34381414, 0.35650308, 0.36732599,\n",
      "       0.35771599, 0.36564658, 0.36023512, 0.3584624 , 0.37115133,\n",
      "       0.3774025 , 0.39317037, 0.3963426 , 0.39764882, 0.38887852,\n",
      "       0.39027804, 0.39027804, 0.38477328, 0.40240717, 0.4053928 ])]\n",
      "[0.4172420227654412]\n",
      "\n",
      "[array([0.433663  , 0.42228028, 0.43039746, 0.43720843, 0.44224669,\n",
      "       0.43823475, 0.44933756, 0.39550289, 0.40641911, 0.39354357,\n",
      "       0.40735212, 0.40306027, 0.39121105, 0.39848852, 0.39494309,\n",
      "       0.4058593 , 0.40847173, 0.39979474, 0.4056727 , 0.40688561,\n",
      "       0.38244075, 0.38561299, 0.36191454, 0.36172793, 0.32692667,\n",
      "       0.34381414, 0.35351745, 0.36667289, 0.35277104, 0.35995522,\n",
      "       0.37180444, 0.37087143, 0.33560366, 0.33457735, 0.31834297,\n",
      "       0.311532  , 0.31041239, 0.28746035, 0.29884307, 0.33821609,\n",
      "       0.32757977, 0.33411084, 0.34381414, 0.35650308, 0.36732599,\n",
      "       0.35771599, 0.36564658, 0.36023512, 0.3584624 , 0.37115133,\n",
      "       0.3774025 , 0.39317037, 0.3963426 , 0.39764882, 0.38887852,\n",
      "       0.39027804, 0.39027804, 0.38477328, 0.40240717, 0.4053928 ]), array([0.42228028, 0.43039746, 0.43720843, 0.44224669, 0.43823475,\n",
      "       0.44933756, 0.39550289, 0.40641911, 0.39354357, 0.40735212,\n",
      "       0.40306027, 0.39121105, 0.39848852, 0.39494309, 0.4058593 ,\n",
      "       0.40847173, 0.39979474, 0.4056727 , 0.40688561, 0.38244075,\n",
      "       0.38561299, 0.36191454, 0.36172793, 0.32692667, 0.34381414,\n",
      "       0.35351745, 0.36667289, 0.35277104, 0.35995522, 0.37180444,\n",
      "       0.37087143, 0.33560366, 0.33457735, 0.31834297, 0.311532  ,\n",
      "       0.31041239, 0.28746035, 0.29884307, 0.33821609, 0.32757977,\n",
      "       0.33411084, 0.34381414, 0.35650308, 0.36732599, 0.35771599,\n",
      "       0.36564658, 0.36023512, 0.3584624 , 0.37115133, 0.3774025 ,\n",
      "       0.39317037, 0.3963426 , 0.39764882, 0.38887852, 0.39027804,\n",
      "       0.39027804, 0.38477328, 0.40240717, 0.4053928 , 0.41724202])]\n",
      "[0.4172420227654412, 0.41574920694159356]\n",
      "\n"
     ]
    }
   ],
   "source": [
    "# Create the training data set \n",
    "# Create the scaled training data set\n",
    "train_data = scaled_data[0:int(training_data_len), :]\n",
    "# Split the data into x_train and y_train data sets\n",
    "x_train = []\n",
    "y_train = []\n",
    "\n",
    "for i in range(60, len(train_data)):\n",
    "    x_train.append(train_data[i-60:i, 0])\n",
    "    y_train.append(train_data[i, 0])\n",
    "    if i<= 61:\n",
    "        print(x_train)\n",
    "        print(y_train)\n",
    "        print()\n",
    "        \n",
    "# Convert the x_train and y_train to numpy arrays \n",
    "x_train, y_train = np.array(x_train), np.array(y_train)\n",
    "\n",
    "# Reshape the data\n",
    "x_train = np.reshape(x_train, (x_train.shape[0], x_train.shape[1], 1))"
   ]
  },
  {
   "cell_type": "code",
   "execution_count": 119,
   "metadata": {},
   "outputs": [
    {
     "name": "stderr",
     "output_type": "stream",
     "text": [
      "c:\\Users\\mabro\\AppData\\Local\\Programs\\Python\\Python312\\Lib\\site-packages\\keras\\src\\layers\\rnn\\rnn.py:204: UserWarning: Do not pass an `input_shape`/`input_dim` argument to a layer. When using Sequential models, prefer using an `Input(shape)` object as the first layer in the model instead.\n",
      "  super().__init__(**kwargs)\n"
     ]
    },
    {
     "name": "stdout",
     "output_type": "stream",
     "text": [
      "\u001b[1m1136/1136\u001b[0m \u001b[32m━━━━━━━━━━━━━━━━━━━━\u001b[0m\u001b[37m\u001b[0m \u001b[1m13s\u001b[0m 10ms/step - loss: 0.0043\n"
     ]
    },
    {
     "data": {
      "text/plain": [
       "<keras.src.callbacks.history.History at 0x21d2f5a35f0>"
      ]
     },
     "execution_count": 119,
     "metadata": {},
     "output_type": "execute_result"
    }
   ],
   "source": [
    "from keras.models import Sequential\n",
    "from keras.layers import Dense, LSTM\n",
    "\n",
    "# Build the LSTM model\n",
    "model = Sequential()\n",
    "model.add(LSTM(128, return_sequences=True, input_shape= (x_train.shape[1], 1)))\n",
    "model.add(LSTM(64, return_sequences=False))\n",
    "model.add(Dense(25))\n",
    "model.add(Dense(1))\n",
    "\n",
    "# Compile the model\n",
    "model.compile(optimizer='adam', loss='mean_squared_error')\n",
    "\n",
    "# Train the model\n",
    "model.fit(x_train, y_train, batch_size=1, epochs=1)"
   ]
  },
  {
   "cell_type": "code",
   "execution_count": 120,
   "metadata": {},
   "outputs": [
    {
     "name": "stdout",
     "output_type": "stream",
     "text": [
      "\u001b[1m2/2\u001b[0m \u001b[32m━━━━━━━━━━━━━━━━━━━━\u001b[0m\u001b[37m\u001b[0m \u001b[1m0s\u001b[0m 189ms/step\n"
     ]
    },
    {
     "data": {
      "text/plain": [
       "4.1530561556874215"
      ]
     },
     "execution_count": 120,
     "metadata": {},
     "output_type": "execute_result"
    }
   ],
   "source": [
    "# Create the testing data set\n",
    "# Create a new array containing scaled values from index 1543 to 2002 \n",
    "test_data = scaled_data[training_data_len - 60: , :]\n",
    "# Create the data sets x_test and y_test\n",
    "x_test = []\n",
    "y_test = df_close_values[training_data_len:, :]\n",
    "for i in range(60, len(test_data)):\n",
    "    x_test.append(test_data[i-60:i, 0])\n",
    "    \n",
    "# Convert the data to a numpy array\n",
    "x_test = np.array(x_test)\n",
    "\n",
    "# Reshape the data\n",
    "x_test = np.reshape(x_test, (x_test.shape[0], x_test.shape[1], 1 ))\n",
    "\n",
    "# Get the models predicted price values \n",
    "predictions = model.predict(x_test)\n",
    "predictions = scaler.inverse_transform(predictions)\n",
    "\n",
    "# Get the root mean squared error (RMSE)\n",
    "rmse = np.sqrt(np.mean(((predictions - y_test) ** 2)))\n",
    "rmse"
   ]
  },
  {
   "cell_type": "code",
   "execution_count": null,
   "metadata": {},
   "outputs": [],
   "source": []
  },
  {
   "cell_type": "code",
   "execution_count": 124,
   "metadata": {},
   "outputs": [
    {
     "name": "stderr",
     "output_type": "stream",
     "text": [
      "C:\\Users\\mabro\\AppData\\Local\\Temp\\ipykernel_4524\\2340750745.py:4: SettingWithCopyWarning: \n",
      "A value is trying to be set on a copy of a slice from a DataFrame.\n",
      "Try using .loc[row_indexer,col_indexer] = value instead\n",
      "\n",
      "See the caveats in the documentation: https://pandas.pydata.org/pandas-docs/stable/user_guide/indexing.html#returning-a-view-versus-a-copy\n",
      "  valid['Predictions'] = predictions\n"
     ]
    },
    {
     "data": {
      "image/png": "[encoded data removed]",
      "text/plain": [
       "<Figure size 1600x600 with 1 Axes>"
      ]
     },
     "metadata": {},
     "output_type": "display_data"
    }
   ],
   "source": [
    "# Plot the data\n",
    "train = df[:training_data_len]\n",
    "valid = df[training_data_len:]\n",
    "valid['Predictions'] = predictions\n",
    "# Visualize the data\n",
    "plt.figure(figsize=(16,6))\n",
    "plt.title('Model')\n",
    "plt.xlabel('Date', fontsize=18)\n",
    "plt.ylabel('Close Price USD ($)', fontsize=18)\n",
    "plt.plot(train['close'])\n",
    "plt.plot(valid[['close', 'Predictions']])\n",
    "plt.legend(['Train', 'Val', 'Predictions'], loc='lower right')\n",
    "plt.show()"
   ]
  },
  {
   "cell_type": "code",
   "execution_count": 123,
   "metadata": {},
   "outputs": [
    {
     "data": {
      "text/html": [
       "<div>\n",
       "<style scoped>\n",
       "    .dataframe tbody tr th:only-of-type {\n",
       "        vertical-align: middle;\n",
       "    }\n",
       "\n",
       "    .dataframe tbody tr th {\n",
       "        vertical-align: top;\n",
       "    }\n",
       "\n",
       "    .dataframe thead th {\n",
       "        text-align: right;\n",
       "    }\n",
       "</style>\n",
       "<table border=\"1\" class=\"dataframe\">\n",
       "  <thead>\n",
       "    <tr style=\"text-align: right;\">\n",
       "      <th></th>\n",
       "      <th>Unnamed: 0</th>\n",
       "      <th>adjClose</th>\n",
       "      <th>change</th>\n",
       "      <th>changeOverTime</th>\n",
       "      <th>changePercent</th>\n",
       "      <th>close</th>\n",
       "      <th>date</th>\n",
       "      <th>high</th>\n",
       "      <th>label</th>\n",
       "      <th>low</th>\n",
       "      <th>open</th>\n",
       "      <th>unadjustedVolume</th>\n",
       "      <th>volume</th>\n",
       "      <th>vwap</th>\n",
       "    </tr>\n",
       "  </thead>\n",
       "  <tbody>\n",
       "    <tr>\n",
       "      <th>0</th>\n",
       "      <td>0</td>\n",
       "      <td>107.68</td>\n",
       "      <td>0.35</td>\n",
       "      <td>0.002560</td>\n",
       "      <td>0.255980</td>\n",
       "      <td>137.08</td>\n",
       "      <td>2019-04-08</td>\n",
       "      <td>137.11</td>\n",
       "      <td>April 08, 19</td>\n",
       "      <td>136.59</td>\n",
       "      <td>136.73</td>\n",
       "      <td>2215637</td>\n",
       "      <td>2215637</td>\n",
       "      <td>136.9300</td>\n",
       "    </tr>\n",
       "    <tr>\n",
       "      <th>1</th>\n",
       "      <td>1</td>\n",
       "      <td>106.72</td>\n",
       "      <td>-0.53</td>\n",
       "      <td>-0.003886</td>\n",
       "      <td>-0.388590</td>\n",
       "      <td>135.86</td>\n",
       "      <td>2019-04-09</td>\n",
       "      <td>136.66</td>\n",
       "      <td>April 09, 19</td>\n",
       "      <td>135.60</td>\n",
       "      <td>136.39</td>\n",
       "      <td>3178271</td>\n",
       "      <td>3178271</td>\n",
       "      <td>136.0400</td>\n",
       "    </tr>\n",
       "    <tr>\n",
       "      <th>2</th>\n",
       "      <td>2</td>\n",
       "      <td>107.40</td>\n",
       "      <td>0.78</td>\n",
       "      <td>0.005737</td>\n",
       "      <td>0.573740</td>\n",
       "      <td>136.73</td>\n",
       "      <td>2019-04-10</td>\n",
       "      <td>137.19</td>\n",
       "      <td>April 10, 19</td>\n",
       "      <td>135.74</td>\n",
       "      <td>135.95</td>\n",
       "      <td>2801188</td>\n",
       "      <td>2801188</td>\n",
       "      <td>136.5500</td>\n",
       "    </tr>\n",
       "    <tr>\n",
       "      <th>3</th>\n",
       "      <td>3</td>\n",
       "      <td>107.97</td>\n",
       "      <td>-0.02</td>\n",
       "      <td>-0.000145</td>\n",
       "      <td>-0.014548</td>\n",
       "      <td>137.46</td>\n",
       "      <td>2019-04-11</td>\n",
       "      <td>137.77</td>\n",
       "      <td>April 11, 19</td>\n",
       "      <td>136.74</td>\n",
       "      <td>137.48</td>\n",
       "      <td>3077332</td>\n",
       "      <td>3077332</td>\n",
       "      <td>137.3200</td>\n",
       "    </tr>\n",
       "    <tr>\n",
       "      <th>4</th>\n",
       "      <td>4</td>\n",
       "      <td>108.40</td>\n",
       "      <td>0.08</td>\n",
       "      <td>0.000580</td>\n",
       "      <td>0.058005</td>\n",
       "      <td>138.00</td>\n",
       "      <td>2019-04-12</td>\n",
       "      <td>138.09</td>\n",
       "      <td>April 12, 19</td>\n",
       "      <td>137.38</td>\n",
       "      <td>137.92</td>\n",
       "      <td>3032249</td>\n",
       "      <td>3032249</td>\n",
       "      <td>137.8200</td>\n",
       "    </tr>\n",
       "    <tr>\n",
       "      <th>...</th>\n",
       "      <td>...</td>\n",
       "      <td>...</td>\n",
       "      <td>...</td>\n",
       "      <td>...</td>\n",
       "      <td>...</td>\n",
       "      <td>...</td>\n",
       "      <td>...</td>\n",
       "      <td>...</td>\n",
       "      <td>...</td>\n",
       "      <td>...</td>\n",
       "      <td>...</td>\n",
       "      <td>...</td>\n",
       "      <td>...</td>\n",
       "      <td>...</td>\n",
       "    </tr>\n",
       "    <tr>\n",
       "      <th>1253</th>\n",
       "      <td>1253</td>\n",
       "      <td>189.83</td>\n",
       "      <td>-0.17</td>\n",
       "      <td>-0.000895</td>\n",
       "      <td>-0.089474</td>\n",
       "      <td>189.83</td>\n",
       "      <td>2024-04-01</td>\n",
       "      <td>190.46</td>\n",
       "      <td>April 01, 24</td>\n",
       "      <td>188.52</td>\n",
       "      <td>190.00</td>\n",
       "      <td>2364320</td>\n",
       "      <td>2364320</td>\n",
       "      <td>189.7025</td>\n",
       "    </tr>\n",
       "    <tr>\n",
       "      <th>1254</th>\n",
       "      <td>1254</td>\n",
       "      <td>188.88</td>\n",
       "      <td>-0.26</td>\n",
       "      <td>-0.001375</td>\n",
       "      <td>-0.137460</td>\n",
       "      <td>188.88</td>\n",
       "      <td>2024-04-02</td>\n",
       "      <td>189.80</td>\n",
       "      <td>April 02, 24</td>\n",
       "      <td>187.60</td>\n",
       "      <td>189.14</td>\n",
       "      <td>2693455</td>\n",
       "      <td>2693455</td>\n",
       "      <td>188.8550</td>\n",
       "    </tr>\n",
       "    <tr>\n",
       "      <th>1255</th>\n",
       "      <td>1255</td>\n",
       "      <td>190.90</td>\n",
       "      <td>2.30</td>\n",
       "      <td>0.012200</td>\n",
       "      <td>1.220000</td>\n",
       "      <td>190.90</td>\n",
       "      <td>2024-04-03</td>\n",
       "      <td>191.35</td>\n",
       "      <td>April 03, 24</td>\n",
       "      <td>188.49</td>\n",
       "      <td>188.60</td>\n",
       "      <td>2826193</td>\n",
       "      <td>2826193</td>\n",
       "      <td>189.8350</td>\n",
       "    </tr>\n",
       "    <tr>\n",
       "      <th>1256</th>\n",
       "      <td>1256</td>\n",
       "      <td>187.94</td>\n",
       "      <td>-4.06</td>\n",
       "      <td>-0.021100</td>\n",
       "      <td>-2.110000</td>\n",
       "      <td>187.94</td>\n",
       "      <td>2024-04-04</td>\n",
       "      <td>193.28</td>\n",
       "      <td>April 04, 24</td>\n",
       "      <td>187.34</td>\n",
       "      <td>192.00</td>\n",
       "      <td>2983853</td>\n",
       "      <td>2983853</td>\n",
       "      <td>190.1400</td>\n",
       "    </tr>\n",
       "    <tr>\n",
       "      <th>1257</th>\n",
       "      <td>1257</td>\n",
       "      <td>189.14</td>\n",
       "      <td>0.55</td>\n",
       "      <td>0.002916</td>\n",
       "      <td>0.291638</td>\n",
       "      <td>189.14</td>\n",
       "      <td>2024-04-05</td>\n",
       "      <td>190.30</td>\n",
       "      <td>April 05, 24</td>\n",
       "      <td>188.02</td>\n",
       "      <td>188.59</td>\n",
       "      <td>1565746</td>\n",
       "      <td>1565746</td>\n",
       "      <td>189.1500</td>\n",
       "    </tr>\n",
       "  </tbody>\n",
       "</table>\n",
       "<p>1258 rows × 14 columns</p>\n",
       "</div>"
      ],
      "text/plain": [
       "      Unnamed: 0  adjClose  change  changeOverTime  changePercent   close  \\\n",
       "0              0    107.68    0.35        0.002560       0.255980  137.08   \n",
       "1              1    106.72   -0.53       -0.003886      -0.388590  135.86   \n",
       "2              2    107.40    0.78        0.005737       0.573740  136.73   \n",
       "3              3    107.97   -0.02       -0.000145      -0.014548  137.46   \n",
       "4              4    108.40    0.08        0.000580       0.058005  138.00   \n",
       "...          ...       ...     ...             ...            ...     ...   \n",
       "1253        1253    189.83   -0.17       -0.000895      -0.089474  189.83   \n",
       "1254        1254    188.88   -0.26       -0.001375      -0.137460  188.88   \n",
       "1255        1255    190.90    2.30        0.012200       1.220000  190.90   \n",
       "1256        1256    187.94   -4.06       -0.021100      -2.110000  187.94   \n",
       "1257        1257    189.14    0.55        0.002916       0.291638  189.14   \n",
       "\n",
       "            date    high         label     low    open  unadjustedVolume  \\\n",
       "0     2019-04-08  137.11  April 08, 19  136.59  136.73           2215637   \n",
       "1     2019-04-09  136.66  April 09, 19  135.60  136.39           3178271   \n",
       "2     2019-04-10  137.19  April 10, 19  135.74  135.95           2801188   \n",
       "3     2019-04-11  137.77  April 11, 19  136.74  137.48           3077332   \n",
       "4     2019-04-12  138.09  April 12, 19  137.38  137.92           3032249   \n",
       "...          ...     ...           ...     ...     ...               ...   \n",
       "1253  2024-04-01  190.46  April 01, 24  188.52  190.00           2364320   \n",
       "1254  2024-04-02  189.80  April 02, 24  187.60  189.14           2693455   \n",
       "1255  2024-04-03  191.35  April 03, 24  188.49  188.60           2826193   \n",
       "1256  2024-04-04  193.28  April 04, 24  187.34  192.00           2983853   \n",
       "1257  2024-04-05  190.30  April 05, 24  188.02  188.59           1565746   \n",
       "\n",
       "       volume      vwap  \n",
       "0     2215637  136.9300  \n",
       "1     3178271  136.0400  \n",
       "2     2801188  136.5500  \n",
       "3     3077332  137.3200  \n",
       "4     3032249  137.8200  \n",
       "...       ...       ...  \n",
       "1253  2364320  189.7025  \n",
       "1254  2693455  188.8550  \n",
       "1255  2826193  189.8350  \n",
       "1256  2983853  190.1400  \n",
       "1257  1565746  189.1500  \n",
       "\n",
       "[1258 rows x 14 columns]"
      ]
     },
     "execution_count": 123,
     "metadata": {},
     "output_type": "execute_result"
    }
   ],
   "source": [
    "df"
   ]
  },
  {
   "cell_type": "code",
   "execution_count": null,
   "metadata": {},
   "outputs": [],
   "source": []
  }
 ],
 "metadata": {
  "kernelspec": {
   "display_name": "base",
   "language": "python",
   "name": "python3"
  },
  "language_info": {
   "codemirror_mode": {
    "name": "ipython",
    "version": 3
   },
   "file_extension": ".py",
   "mimetype": "text/x-python",
   "name": "python",
   "nbconvert_exporter": "python",
   "pygments_lexer": "ipython3",
   "version": "3.12.3"
  }
 },
 "nbformat": 4,
 "nbformat_minor": 2
}
