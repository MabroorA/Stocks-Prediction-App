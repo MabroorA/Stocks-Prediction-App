{
 "cells": [
  {
   "cell_type": "markdown",
   "metadata": {},
   "source": [
    "## Libraries"
   ]
  },
  {
   "cell_type": "code",
   "execution_count": 4,
   "metadata": {},
   "outputs": [],
   "source": [
    "import requests\n",
    "import pandas as pd"
   ]
  },
  {
   "cell_type": "markdown",
   "metadata": {},
   "source": [
    "## Fetching Data"
   ]
  },
  {
   "cell_type": "code",
   "execution_count": 6,
   "metadata": {},
   "outputs": [],
   "source": [
    "import pandas_datareader as pdr\n",
    "endpoint_url = \"https://financialmodelingprep.com/api/v3/historical-price-full/AAPL?apikey=wc2bbHWhFBL7no45kaUlx2xLHI2z2wv1\"\n",
    "response = requests.get(endpoint_url)\n",
    "data = response.json()"
   ]
  },
  {
   "cell_type": "markdown",
   "metadata": {},
   "source": [
    "## data preprocessing\n"
   ]
  },
  {
   "cell_type": "code",
   "execution_count": 10,
   "metadata": {},
   "outputs": [
    {
     "data": {
      "text/html": [
       "<div>\n",
       "<style scoped>\n",
       "    .dataframe tbody tr th:only-of-type {\n",
       "        vertical-align: middle;\n",
       "    }\n",
       "\n",
       "    .dataframe tbody tr th {\n",
       "        vertical-align: top;\n",
       "    }\n",
       "\n",
       "    .dataframe thead th {\n",
       "        text-align: right;\n",
       "    }\n",
       "</style>\n",
       "<table border=\"1\" class=\"dataframe\">\n",
       "  <thead>\n",
       "    <tr style=\"text-align: right;\">\n",
       "      <th></th>\n",
       "      <th>date</th>\n",
       "      <th>open</th>\n",
       "      <th>high</th>\n",
       "      <th>low</th>\n",
       "      <th>close</th>\n",
       "      <th>adjClose</th>\n",
       "      <th>volume</th>\n",
       "      <th>unadjustedVolume</th>\n",
       "      <th>change</th>\n",
       "      <th>changePercent</th>\n",
       "      <th>vwap</th>\n",
       "      <th>label</th>\n",
       "      <th>changeOverTime</th>\n",
       "    </tr>\n",
       "  </thead>\n",
       "  <tbody>\n",
       "    <tr>\n",
       "      <th>1253</th>\n",
       "      <td>2019-04-05</td>\n",
       "      <td>49.11</td>\n",
       "      <td>49.28</td>\n",
       "      <td>48.98</td>\n",
       "      <td>49.25</td>\n",
       "      <td>47.41</td>\n",
       "      <td>74106400</td>\n",
       "      <td>74106400</td>\n",
       "      <td>0.14</td>\n",
       "      <td>0.28507</td>\n",
       "      <td>49.17</td>\n",
       "      <td>April 05, 19</td>\n",
       "      <td>0.002851</td>\n",
       "    </tr>\n",
       "    <tr>\n",
       "      <th>1254</th>\n",
       "      <td>2019-04-04</td>\n",
       "      <td>48.70</td>\n",
       "      <td>49.09</td>\n",
       "      <td>48.29</td>\n",
       "      <td>48.92</td>\n",
       "      <td>47.10</td>\n",
       "      <td>76457200</td>\n",
       "      <td>76457200</td>\n",
       "      <td>0.22</td>\n",
       "      <td>0.45175</td>\n",
       "      <td>48.77</td>\n",
       "      <td>April 04, 19</td>\n",
       "      <td>0.004517</td>\n",
       "    </tr>\n",
       "    <tr>\n",
       "      <th>1255</th>\n",
       "      <td>2019-04-03</td>\n",
       "      <td>48.31</td>\n",
       "      <td>49.13</td>\n",
       "      <td>48.29</td>\n",
       "      <td>48.84</td>\n",
       "      <td>47.02</td>\n",
       "      <td>93087200</td>\n",
       "      <td>93087200</td>\n",
       "      <td>0.53</td>\n",
       "      <td>1.10000</td>\n",
       "      <td>48.75</td>\n",
       "      <td>April 03, 19</td>\n",
       "      <td>0.011000</td>\n",
       "    </tr>\n",
       "    <tr>\n",
       "      <th>1256</th>\n",
       "      <td>2019-04-02</td>\n",
       "      <td>47.77</td>\n",
       "      <td>48.62</td>\n",
       "      <td>47.76</td>\n",
       "      <td>48.51</td>\n",
       "      <td>46.70</td>\n",
       "      <td>91062800</td>\n",
       "      <td>91062800</td>\n",
       "      <td>0.74</td>\n",
       "      <td>1.55000</td>\n",
       "      <td>48.29</td>\n",
       "      <td>April 02, 19</td>\n",
       "      <td>0.015500</td>\n",
       "    </tr>\n",
       "    <tr>\n",
       "      <th>1257</th>\n",
       "      <td>2019-04-01</td>\n",
       "      <td>47.91</td>\n",
       "      <td>47.92</td>\n",
       "      <td>47.10</td>\n",
       "      <td>47.81</td>\n",
       "      <td>46.03</td>\n",
       "      <td>111448000</td>\n",
       "      <td>111448000</td>\n",
       "      <td>-0.10</td>\n",
       "      <td>-0.20872</td>\n",
       "      <td>47.61</td>\n",
       "      <td>April 01, 19</td>\n",
       "      <td>-0.002087</td>\n",
       "    </tr>\n",
       "  </tbody>\n",
       "</table>\n",
       "</div>"
      ],
      "text/plain": [
       "            date   open   high    low  close  adjClose     volume  \\\n",
       "1253  2019-04-05  49.11  49.28  48.98  49.25     47.41   74106400   \n",
       "1254  2019-04-04  48.70  49.09  48.29  48.92     47.10   76457200   \n",
       "1255  2019-04-03  48.31  49.13  48.29  48.84     47.02   93087200   \n",
       "1256  2019-04-02  47.77  48.62  47.76  48.51     46.70   91062800   \n",
       "1257  2019-04-01  47.91  47.92  47.10  47.81     46.03  111448000   \n",
       "\n",
       "      unadjustedVolume  change  changePercent   vwap         label  \\\n",
       "1253          74106400    0.14        0.28507  49.17  April 05, 19   \n",
       "1254          76457200    0.22        0.45175  48.77  April 04, 19   \n",
       "1255          93087200    0.53        1.10000  48.75  April 03, 19   \n",
       "1256          91062800    0.74        1.55000  48.29  April 02, 19   \n",
       "1257         111448000   -0.10       -0.20872  47.61  April 01, 19   \n",
       "\n",
       "      changeOverTime  \n",
       "1253        0.002851  \n",
       "1254        0.004517  \n",
       "1255        0.011000  \n",
       "1256        0.015500  \n",
       "1257       -0.002087  "
      ]
     },
     "execution_count": 10,
     "metadata": {},
     "output_type": "execute_result"
    }
   ],
   "source": [
    "# Convert data to DataFrame\n",
    "df = pd.DataFrame(data[\"historical\"])\n",
    "df.to_csv('AAPL.csv')\n",
    "# df.tail()\n",
    "\n",
    "\n"
   ]
  },
  {
   "cell_type": "markdown",
   "metadata": {},
   "source": [
    "## Feature selection\n",
    "\n"
   ]
  },
  {
   "cell_type": "code",
   "execution_count": 13,
   "metadata": {},
   "outputs": [
    {
     "data": {
      "text/plain": [
       "0       171.48\n",
       "1       173.31\n",
       "2       169.71\n",
       "3       170.85\n",
       "4       172.28\n",
       "         ...  \n",
       "1253     49.25\n",
       "1254     48.92\n",
       "1255     48.84\n",
       "1256     48.51\n",
       "1257     47.81\n",
       "Name: close, Length: 1258, dtype: float64"
      ]
     },
     "execution_count": 13,
     "metadata": {},
     "output_type": "execute_result"
    }
   ],
   "source": [
    "df1 = df.reset_index()['close']\n",
    "df1\n",
    "\n",
    "\n"
   ]
  },
  {
   "cell_type": "code",
   "execution_count": 54,
   "metadata": {},
   "outputs": [
    {
     "data": {
      "text/plain": [
       "[<matplotlib.lines.Line2D at 0x1826849bf10>]"
      ]
     },
     "execution_count": 54,
     "metadata": {},
     "output_type": "execute_result"
    },
    {
     "data": {
      "image/png": "[encoded data removed]",
      "text/plain": [
       "<Figure size 432x288 with 1 Axes>"
      ]
     },
     "metadata": {
      "needs_background": "light"
     },
     "output_type": "display_data"
    }
   ],
   "source": [
    "import matplotlib.pyplot as plt\n",
    "\n",
    "plt.plot(df1)\n"
   ]
  },
  {
   "cell_type": "code",
   "execution_count": 19,
   "metadata": {},
   "outputs": [],
   "source": [
    "import numpy as np\n",
    "from sklearn.preprocessing import MinMaxScaler\n",
    "scaler = MinMaxScaler(feature_range = (0,1))\n",
    "df1 = scaler.fit_transform(np.array(df1).reshape(-1,1))"
   ]
  },
  {
   "cell_type": "markdown",
   "metadata": {},
   "source": [
    "## After transformation"
   ]
  },
  {
   "cell_type": "code",
   "execution_count": 20,
   "metadata": {},
   "outputs": [
    {
     "data": {
      "text/plain": [
       "array([[0.82794935],\n",
       "       [0.83977258],\n",
       "       [0.81651376],\n",
       "       ...,\n",
       "       [0.03559891],\n",
       "       [0.03346686],\n",
       "       [0.02894431]])"
      ]
     },
     "execution_count": 20,
     "metadata": {},
     "output_type": "execute_result"
    }
   ],
   "source": [
    "df1"
   ]
  },
  {
   "cell_type": "markdown",
   "metadata": {},
   "source": [
    "## Training (65%) and Testing (35%) "
   ]
  },
  {
   "cell_type": "code",
   "execution_count": 23,
   "metadata": {},
   "outputs": [],
   "source": [
    "Training_size = int(len(df1)*0.65)\n",
    "test_size = len(df1)-Training_size\n",
    "\n",
    "train_data, test_data = df1[0:Training_size,:], df1[Training_size:len(df1),:1]"
   ]
  },
  {
   "cell_type": "code",
   "execution_count": 25,
   "metadata": {},
   "outputs": [
    {
     "data": {
      "text/plain": [
       "817"
      ]
     },
     "execution_count": 25,
     "metadata": {},
     "output_type": "execute_result"
    }
   ],
   "source": [
    "# Training_size,test_size\n"
   ]
  },
  {
   "cell_type": "markdown",
   "metadata": {},
   "source": [
    "## Converting from array to  matrix dataset"
   ]
  },
  {
   "cell_type": "code",
   "execution_count": 26,
   "metadata": {},
   "outputs": [],
   "source": [
    "\n",
    "def create_dataset(dataset, time_step=1):\n",
    "    dataX, dataY = [], []\n",
    "    for i in range(len(dataset)-time_step):\n",
    "        a = dataset[i:(i + time_step), 0]\n",
    "        dataX.append(a)\n",
    "        dataY.append(dataset[i + time_step, 0])\n",
    "    return np.array(dataX), np.array(dataY)    "
   ]
  },
  {
   "cell_type": "code",
   "execution_count": 30,
   "metadata": {},
   "outputs": [],
   "source": [
    "# reshaping\n",
    "time_step = 100\n",
    "X_train, y_train = create_dataset(train_data, time_step)\n",
    "X_test, y_test = create_dataset(test_data, time_step)"
   ]
  },
  {
   "cell_type": "markdown",
   "metadata": {},
   "source": [
    "## Time series Dataset"
   ]
  },
  {
   "cell_type": "code",
   "execution_count": 31,
   "metadata": {},
   "outputs": [
    {
     "name": "stdout",
     "output_type": "stream",
     "text": [
      "(717, 100)\n",
      "(717,)\n"
     ]
    },
    {
     "data": {
      "text/plain": [
       "(None, None)"
      ]
     },
     "execution_count": 31,
     "metadata": {},
     "output_type": "execute_result"
    }
   ],
   "source": [
    "print(X_train.shape), print(y_train.shape)"
   ]
  },
  {
   "cell_type": "code",
   "execution_count": 32,
   "metadata": {},
   "outputs": [],
   "source": [
    "# Reshape Input to be [samples, timesteps, features] which is required for LSTM\n",
    "X_train = X_train.reshape(X_train.shape[0], X_train.shape[1], 1) # 1 at the end is for the 3d\n",
    "X_test = X_test.reshape(X_test.shape[0], X_test.shape[1], 1)\n"
   ]
  },
  {
   "cell_type": "markdown",
   "metadata": {},
   "source": [
    "## Creating / Building the LSTM Model"
   ]
  },
  {
   "cell_type": "code",
   "execution_count": 33,
   "metadata": {},
   "outputs": [],
   "source": [
    "from tensorflow.keras.models import Sequential\n",
    "from tensorflow.keras.layers import Dense\n",
    "from tensorflow.keras.layers import LSTM"
   ]
  },
  {
   "cell_type": "code",
   "execution_count": 38,
   "metadata": {},
   "outputs": [],
   "source": [
    "# stacked model\n",
    "model = Sequential()\n",
    "model.add(LSTM(50,return_sequences=True, input_shape =(100,1)))\n",
    "model.add(LSTM(50,return_sequences=True))\n",
    "model.add(LSTM(50))\n",
    "model.add(Dense(1))\n",
    "model.compile(loss='mean_squared_error', optimizer='adam')"
   ]
  },
  {
   "cell_type": "code",
   "execution_count": 39,
   "metadata": {},
   "outputs": [
    {
     "name": "stdout",
     "output_type": "stream",
     "text": [
      "Model: \"sequential_1\"\n",
      "_________________________________________________________________\n",
      " Layer (type)                Output Shape              Param #   \n",
      "=================================================================\n",
      " lstm_3 (LSTM)               (None, 100, 50)           10400     \n",
      "                                                                 \n",
      " lstm_4 (LSTM)               (None, 100, 50)           20200     \n",
      "                                                                 \n",
      " lstm_5 (LSTM)               (None, 50)                20200     \n",
      "                                                                 \n",
      " dense_1 (Dense)             (None, 1)                 51        \n",
      "                                                                 \n",
      "=================================================================\n",
      "Total params: 50,851\n",
      "Trainable params: 50,851\n",
      "Non-trainable params: 0\n",
      "_________________________________________________________________\n"
     ]
    }
   ],
   "source": [
    "model.summary()"
   ]
  },
  {
   "cell_type": "markdown",
   "metadata": {},
   "source": [
    "# Training the model "
   ]
  },
  {
   "cell_type": "code",
   "execution_count": 40,
   "metadata": {},
   "outputs": [
    {
     "name": "stdout",
     "output_type": "stream",
     "text": [
      "Epoch 1/100\n",
      "12/12 [==============================] - 8s 222ms/step - loss: 0.1627 - val_loss: 0.0163\n",
      "Epoch 2/100\n",
      "12/12 [==============================] - 1s 117ms/step - loss: 0.0172 - val_loss: 0.0380\n",
      "Epoch 3/100\n",
      "12/12 [==============================] - 1s 110ms/step - loss: 0.0080 - val_loss: 0.0193\n",
      "Epoch 4/100\n",
      "12/12 [==============================] - 1s 109ms/step - loss: 0.0052 - val_loss: 0.0267\n",
      "Epoch 5/100\n",
      "12/12 [==============================] - 1s 109ms/step - loss: 0.0039 - val_loss: 0.0211\n",
      "Epoch 6/100\n",
      "12/12 [==============================] - 1s 110ms/step - loss: 0.0036 - val_loss: 0.0157\n",
      "Epoch 7/100\n",
      "12/12 [==============================] - 1s 110ms/step - loss: 0.0034 - val_loss: 0.0140\n",
      "Epoch 8/100\n",
      "12/12 [==============================] - 1s 113ms/step - loss: 0.0030 - val_loss: 0.0124\n",
      "Epoch 9/100\n",
      "12/12 [==============================] - 1s 110ms/step - loss: 0.0028 - val_loss: 0.0091\n",
      "Epoch 10/100\n",
      "12/12 [==============================] - 1s 110ms/step - loss: 0.0025 - val_loss: 0.0070\n",
      "Epoch 11/100\n",
      "12/12 [==============================] - 1s 111ms/step - loss: 0.0023 - val_loss: 0.0052\n",
      "Epoch 12/100\n",
      "12/12 [==============================] - 1s 111ms/step - loss: 0.0021 - val_loss: 0.0038\n",
      "Epoch 13/100\n",
      "12/12 [==============================] - 1s 109ms/step - loss: 0.0022 - val_loss: 0.0038\n",
      "Epoch 14/100\n",
      "12/12 [==============================] - 1s 111ms/step - loss: 0.0024 - val_loss: 0.0042\n",
      "Epoch 15/100\n",
      "12/12 [==============================] - 1s 110ms/step - loss: 0.0020 - val_loss: 0.0035\n",
      "Epoch 16/100\n",
      "12/12 [==============================] - 1s 110ms/step - loss: 0.0024 - val_loss: 0.0041\n",
      "Epoch 17/100\n",
      "12/12 [==============================] - 1s 112ms/step - loss: 0.0021 - val_loss: 0.0040\n",
      "Epoch 18/100\n",
      "12/12 [==============================] - 1s 113ms/step - loss: 0.0021 - val_loss: 0.0042\n",
      "Epoch 19/100\n",
      "12/12 [==============================] - 1s 116ms/step - loss: 0.0019 - val_loss: 0.0040\n",
      "Epoch 20/100\n",
      "12/12 [==============================] - 1s 113ms/step - loss: 0.0018 - val_loss: 0.0039\n",
      "Epoch 21/100\n",
      "12/12 [==============================] - 1s 111ms/step - loss: 0.0018 - val_loss: 0.0034\n",
      "Epoch 22/100\n",
      "12/12 [==============================] - 1s 111ms/step - loss: 0.0019 - val_loss: 0.0041\n",
      "Epoch 23/100\n",
      "12/12 [==============================] - 1s 110ms/step - loss: 0.0017 - val_loss: 0.0036\n",
      "Epoch 24/100\n",
      "12/12 [==============================] - 1s 113ms/step - loss: 0.0017 - val_loss: 0.0036\n",
      "Epoch 25/100\n",
      "12/12 [==============================] - 1s 112ms/step - loss: 0.0017 - val_loss: 0.0035\n",
      "Epoch 26/100\n",
      "12/12 [==============================] - 1s 111ms/step - loss: 0.0017 - val_loss: 0.0034\n",
      "Epoch 27/100\n",
      "12/12 [==============================] - 1s 112ms/step - loss: 0.0016 - val_loss: 0.0036\n",
      "Epoch 28/100\n",
      "12/12 [==============================] - 1s 108ms/step - loss: 0.0017 - val_loss: 0.0041\n",
      "Epoch 29/100\n",
      "12/12 [==============================] - 1s 110ms/step - loss: 0.0017 - val_loss: 0.0034\n",
      "Epoch 30/100\n",
      "12/12 [==============================] - 1s 111ms/step - loss: 0.0015 - val_loss: 0.0035\n",
      "Epoch 31/100\n",
      "12/12 [==============================] - 1s 110ms/step - loss: 0.0015 - val_loss: 0.0036\n",
      "Epoch 32/100\n",
      "12/12 [==============================] - 1s 110ms/step - loss: 0.0015 - val_loss: 0.0039\n",
      "Epoch 33/100\n",
      "12/12 [==============================] - 1s 108ms/step - loss: 0.0016 - val_loss: 0.0038\n",
      "Epoch 34/100\n",
      "12/12 [==============================] - 1s 110ms/step - loss: 0.0018 - val_loss: 0.0032\n",
      "Epoch 35/100\n",
      "12/12 [==============================] - 1s 111ms/step - loss: 0.0015 - val_loss: 0.0028\n",
      "Epoch 36/100\n",
      "12/12 [==============================] - 1s 110ms/step - loss: 0.0015 - val_loss: 0.0034\n",
      "Epoch 37/100\n",
      "12/12 [==============================] - 1s 110ms/step - loss: 0.0016 - val_loss: 0.0037\n",
      "Epoch 38/100\n",
      "12/12 [==============================] - 1s 109ms/step - loss: 0.0015 - val_loss: 0.0035\n",
      "Epoch 39/100\n",
      "12/12 [==============================] - 1s 110ms/step - loss: 0.0015 - val_loss: 0.0033\n",
      "Epoch 40/100\n",
      "12/12 [==============================] - 1s 109ms/step - loss: 0.0017 - val_loss: 0.0023\n",
      "Epoch 41/100\n",
      "12/12 [==============================] - 1s 109ms/step - loss: 0.0015 - val_loss: 0.0030\n",
      "Epoch 42/100\n",
      "12/12 [==============================] - 1s 109ms/step - loss: 0.0013 - val_loss: 0.0027\n",
      "Epoch 43/100\n",
      "12/12 [==============================] - 1s 110ms/step - loss: 0.0015 - val_loss: 0.0024\n",
      "Epoch 44/100\n",
      "12/12 [==============================] - 1s 108ms/step - loss: 0.0015 - val_loss: 0.0028\n",
      "Epoch 45/100\n",
      "12/12 [==============================] - 1s 111ms/step - loss: 0.0013 - val_loss: 0.0027\n",
      "Epoch 46/100\n",
      "12/12 [==============================] - 1s 110ms/step - loss: 0.0014 - val_loss: 0.0035\n",
      "Epoch 47/100\n",
      "12/12 [==============================] - 1s 109ms/step - loss: 0.0017 - val_loss: 0.0029\n",
      "Epoch 48/100\n",
      "12/12 [==============================] - 1s 109ms/step - loss: 0.0016 - val_loss: 0.0024\n",
      "Epoch 49/100\n",
      "12/12 [==============================] - 1s 111ms/step - loss: 0.0014 - val_loss: 0.0027\n",
      "Epoch 50/100\n",
      "12/12 [==============================] - 1s 109ms/step - loss: 0.0012 - val_loss: 0.0022\n",
      "Epoch 51/100\n",
      "12/12 [==============================] - 1s 110ms/step - loss: 0.0014 - val_loss: 0.0026\n",
      "Epoch 52/100\n",
      "12/12 [==============================] - 1s 109ms/step - loss: 0.0013 - val_loss: 0.0028\n",
      "Epoch 53/100\n",
      "12/12 [==============================] - 1s 109ms/step - loss: 0.0012 - val_loss: 0.0028\n",
      "Epoch 54/100\n",
      "12/12 [==============================] - 1s 108ms/step - loss: 0.0012 - val_loss: 0.0029\n",
      "Epoch 55/100\n",
      "12/12 [==============================] - 1s 108ms/step - loss: 0.0013 - val_loss: 0.0020\n",
      "Epoch 56/100\n",
      "12/12 [==============================] - 1s 109ms/step - loss: 0.0014 - val_loss: 0.0025\n",
      "Epoch 57/100\n",
      "12/12 [==============================] - 1s 108ms/step - loss: 0.0011 - val_loss: 0.0026\n",
      "Epoch 58/100\n",
      "12/12 [==============================] - 1s 109ms/step - loss: 0.0012 - val_loss: 0.0025\n",
      "Epoch 59/100\n",
      "12/12 [==============================] - 1s 109ms/step - loss: 0.0012 - val_loss: 0.0023\n",
      "Epoch 60/100\n",
      "12/12 [==============================] - 1s 109ms/step - loss: 0.0011 - val_loss: 0.0022\n",
      "Epoch 61/100\n",
      "12/12 [==============================] - 1s 107ms/step - loss: 0.0011 - val_loss: 0.0020\n",
      "Epoch 62/100\n",
      "12/12 [==============================] - 1s 110ms/step - loss: 0.0012 - val_loss: 0.0023\n",
      "Epoch 63/100\n",
      "12/12 [==============================] - 1s 107ms/step - loss: 0.0011 - val_loss: 0.0023\n",
      "Epoch 64/100\n",
      "12/12 [==============================] - 1s 109ms/step - loss: 0.0010 - val_loss: 0.0023\n",
      "Epoch 65/100\n",
      "12/12 [==============================] - 1s 109ms/step - loss: 9.9644e-04 - val_loss: 0.0021\n",
      "Epoch 66/100\n",
      "12/12 [==============================] - 1s 111ms/step - loss: 9.9938e-04 - val_loss: 0.0022\n",
      "Epoch 67/100\n",
      "12/12 [==============================] - 1s 109ms/step - loss: 9.6487e-04 - val_loss: 0.0018\n",
      "Epoch 68/100\n",
      "12/12 [==============================] - 1s 108ms/step - loss: 0.0011 - val_loss: 0.0017\n",
      "Epoch 69/100\n",
      "12/12 [==============================] - 1s 108ms/step - loss: 0.0011 - val_loss: 0.0022\n",
      "Epoch 70/100\n",
      "12/12 [==============================] - 1s 107ms/step - loss: 0.0011 - val_loss: 0.0021\n",
      "Epoch 71/100\n",
      "12/12 [==============================] - 1s 106ms/step - loss: 9.7115e-04 - val_loss: 0.0018\n",
      "Epoch 72/100\n",
      "12/12 [==============================] - 1s 104ms/step - loss: 9.5917e-04 - val_loss: 0.0022\n",
      "Epoch 73/100\n",
      "12/12 [==============================] - 1s 105ms/step - loss: 9.1046e-04 - val_loss: 0.0020\n",
      "Epoch 74/100\n",
      "12/12 [==============================] - 1s 104ms/step - loss: 9.5454e-04 - val_loss: 0.0021\n",
      "Epoch 75/100\n",
      "12/12 [==============================] - 1s 104ms/step - loss: 9.0012e-04 - val_loss: 0.0019\n",
      "Epoch 76/100\n",
      "12/12 [==============================] - 1s 105ms/step - loss: 9.1155e-04 - val_loss: 0.0018\n",
      "Epoch 77/100\n",
      "12/12 [==============================] - 1s 102ms/step - loss: 8.7616e-04 - val_loss: 0.0017\n",
      "Epoch 78/100\n",
      "12/12 [==============================] - 1s 103ms/step - loss: 0.0011 - val_loss: 0.0018\n",
      "Epoch 79/100\n",
      "12/12 [==============================] - 1s 103ms/step - loss: 8.6107e-04 - val_loss: 0.0019\n",
      "Epoch 80/100\n",
      "12/12 [==============================] - 1s 103ms/step - loss: 9.0580e-04 - val_loss: 0.0019\n",
      "Epoch 81/100\n",
      "12/12 [==============================] - 1s 107ms/step - loss: 8.5173e-04 - val_loss: 0.0019\n",
      "Epoch 82/100\n",
      "12/12 [==============================] - 1s 104ms/step - loss: 8.5947e-04 - val_loss: 0.0017\n",
      "Epoch 83/100\n",
      "12/12 [==============================] - 1s 105ms/step - loss: 9.0806e-04 - val_loss: 0.0021\n",
      "Epoch 84/100\n",
      "12/12 [==============================] - 1s 105ms/step - loss: 8.0989e-04 - val_loss: 0.0022\n",
      "Epoch 85/100\n",
      "12/12 [==============================] - 1s 104ms/step - loss: 8.3205e-04 - val_loss: 0.0018\n",
      "Epoch 86/100\n",
      "12/12 [==============================] - 1s 105ms/step - loss: 8.1136e-04 - val_loss: 0.0017\n",
      "Epoch 87/100\n",
      "12/12 [==============================] - 1s 104ms/step - loss: 8.0482e-04 - val_loss: 0.0017\n",
      "Epoch 88/100\n",
      "12/12 [==============================] - 1s 105ms/step - loss: 7.7852e-04 - val_loss: 0.0022\n",
      "Epoch 89/100\n",
      "12/12 [==============================] - 1s 102ms/step - loss: 0.0010 - val_loss: 0.0019\n",
      "Epoch 90/100\n",
      "12/12 [==============================] - 1s 103ms/step - loss: 8.3217e-04 - val_loss: 0.0018\n",
      "Epoch 91/100\n",
      "12/12 [==============================] - 1s 108ms/step - loss: 7.4334e-04 - val_loss: 0.0018\n",
      "Epoch 92/100\n",
      "12/12 [==============================] - 1s 106ms/step - loss: 7.3786e-04 - val_loss: 0.0016\n",
      "Epoch 93/100\n",
      "12/12 [==============================] - 1s 106ms/step - loss: 7.4460e-04 - val_loss: 0.0017\n",
      "Epoch 94/100\n",
      "12/12 [==============================] - 1s 106ms/step - loss: 7.5590e-04 - val_loss: 0.0020\n",
      "Epoch 95/100\n",
      "12/12 [==============================] - 1s 104ms/step - loss: 7.5716e-04 - val_loss: 0.0015\n",
      "Epoch 96/100\n",
      "12/12 [==============================] - 1s 104ms/step - loss: 7.6063e-04 - val_loss: 0.0019\n",
      "Epoch 97/100\n",
      "12/12 [==============================] - 1s 105ms/step - loss: 7.6829e-04 - val_loss: 0.0015\n",
      "Epoch 98/100\n",
      "12/12 [==============================] - 1s 105ms/step - loss: 9.1508e-04 - val_loss: 0.0017\n",
      "Epoch 99/100\n",
      "12/12 [==============================] - 1s 106ms/step - loss: 7.5663e-04 - val_loss: 0.0015\n",
      "Epoch 100/100\n",
      "12/12 [==============================] - 1s 105ms/step - loss: 7.5594e-04 - val_loss: 0.0015\n"
     ]
    },
    {
     "data": {
      "text/plain": [
       "<keras.callbacks.History at 0x1825f287c70>"
      ]
     },
     "execution_count": 40,
     "metadata": {},
     "output_type": "execute_result"
    }
   ],
   "source": [
    "model.fit(X_train, y_train, validation_data=(X_test,y_test),epochs=100, batch_size=64, verbose=1)"
   ]
  },
  {
   "cell_type": "markdown",
   "metadata": {},
   "source": [
    "## Prediction\n"
   ]
  },
  {
   "cell_type": "code",
   "execution_count": 41,
   "metadata": {},
   "outputs": [
    {
     "data": {
      "text/plain": [
       "'2.9.1'"
      ]
     },
     "execution_count": 41,
     "metadata": {},
     "output_type": "execute_result"
    }
   ],
   "source": [
    "import tensorflow as tf\n",
    "tf.__version__"
   ]
  },
  {
   "cell_type": "code",
   "execution_count": 48,
   "metadata": {},
   "outputs": [
    {
     "name": "stdout",
     "output_type": "stream",
     "text": [
      "23/23 [==============================] - 0s 19ms/step\n",
      "11/11 [==============================] - 0s 18ms/step\n"
     ]
    }
   ],
   "source": [
    "# prediction and checking performance\n",
    "train_predict = model.predict(X_train)\n",
    "test_predict = model.predict(X_test)"
   ]
  },
  {
   "cell_type": "code",
   "execution_count": 49,
   "metadata": {},
   "outputs": [],
   "source": [
    "## transform back to original form \n",
    "train_predict = scaler.inverse_transform(train_predict)\n",
    "test_predict = scaler.inverse_transform(test_predict)"
   ]
  },
  {
   "cell_type": "markdown",
   "metadata": {},
   "source": [
    "# Calcualting RMSE performance metrics"
   ]
  },
  {
   "cell_type": "code",
   "execution_count": 50,
   "metadata": {},
   "outputs": [
    {
     "data": {
      "text/plain": [
       "154.4125587154247"
      ]
     },
     "execution_count": 50,
     "metadata": {},
     "output_type": "execute_result"
    }
   ],
   "source": [
    "import math \n",
    "from sklearn.metrics import mean_squared_error\n",
    "math.sqrt(mean_squared_error(y_train, train_predict))\n"
   ]
  },
  {
   "cell_type": "code",
   "execution_count": 51,
   "metadata": {},
   "outputs": [
    {
     "data": {
      "text/plain": [
       "72.18353186245888"
      ]
     },
     "execution_count": 51,
     "metadata": {},
     "output_type": "execute_result"
    }
   ],
   "source": [
    "# test data RMSE\n",
    "math.sqrt(mean_squared_error(y_test, test_predict))"
   ]
  },
  {
   "cell_type": "markdown",
   "metadata": {},
   "source": [
    "# Plotting"
   ]
  },
  {
   "cell_type": "code",
   "execution_count": 61,
   "metadata": {},
   "outputs": [
    {
     "name": "stdout",
     "output_type": "stream",
     "text": [
      "Shape of test_predict: (717, 1)\n",
      "Length of test_predict: 717\n",
      "Shape of test_predict: (341, 1)\n",
      "Length of test_predict: 341\n"
     ]
    }
   ],
   "source": [
    "print(\"Shape of test_predict:\", train_predict.shape)\n",
    "print(\"Length of test_predict:\", len(train_predict))\n",
    "\n",
    "print(\"Shape of test_predict:\", test_predict.shape)\n",
    "print(\"Length of test_predict:\", len(test_predict))\n",
    "\n"
   ]
  },
  {
   "cell_type": "code",
   "execution_count": 68,
   "metadata": {},
   "outputs": [
    {
     "name": "stdout",
     "output_type": "stream",
     "text": [
      "Length of test_predict: 341\n",
      "Length of the slice: 140\n"
     ]
    },
    {
     "ename": "ValueError",
     "evalue": "could not broadcast input array from shape (341,1) into shape (340,1)",
     "output_type": "error",
     "traceback": [
      "\u001b[1;31m---------------------------------------------------------------------------\u001b[0m",
      "\u001b[1;31mValueError\u001b[0m                                Traceback (most recent call last)",
      "Input \u001b[1;32mIn [68]\u001b[0m, in \u001b[0;36m<cell line: 17>\u001b[1;34m()\u001b[0m\n\u001b[0;32m     15\u001b[0m testPredictPlot \u001b[38;5;241m=\u001b[39m np\u001b[38;5;241m.\u001b[39mempty_like(df1)\n\u001b[0;32m     16\u001b[0m testPredictPlot[:, :] \u001b[38;5;241m=\u001b[39m np\u001b[38;5;241m.\u001b[39mnan\n\u001b[1;32m---> 17\u001b[0m testPredictPlot[\u001b[38;5;28mlen\u001b[39m(train_predict) \u001b[38;5;241m+\u001b[39m (look_back \u001b[38;5;241m*\u001b[39m \u001b[38;5;241m2\u001b[39m) \u001b[38;5;241m+\u001b[39m \u001b[38;5;241m1\u001b[39m:\u001b[38;5;28mlen\u001b[39m(train_predict) \u001b[38;5;241m+\u001b[39m (look_back \u001b[38;5;241m*\u001b[39m \u001b[38;5;241m2\u001b[39m) \u001b[38;5;241m+\u001b[39m \u001b[38;5;241m1\u001b[39m \u001b[38;5;241m+\u001b[39m \u001b[38;5;28mlen\u001b[39m(test_predict), :] \u001b[38;5;241m=\u001b[39m test_predict\n\u001b[0;32m     22\u001b[0m \u001b[38;5;28mprint\u001b[39m(\u001b[38;5;124m\"\u001b[39m\u001b[38;5;124mLength of testPredictPlot slice:\u001b[39m\u001b[38;5;124m\"\u001b[39m, \u001b[38;5;28mlen\u001b[39m(trainPredictPlot[\u001b[38;5;28mlen\u001b[39m(train_predict)\u001b[38;5;241m+\u001b[39m(look_back\u001b[38;5;241m*\u001b[39m\u001b[38;5;241m2\u001b[39m)\u001b[38;5;241m+\u001b[39m\u001b[38;5;241m1\u001b[39m:\u001b[38;5;28mlen\u001b[39m(df1)\u001b[38;5;241m-\u001b[39m\u001b[38;5;241m1\u001b[39m, :]))\n\u001b[0;32m     24\u001b[0m plt\u001b[38;5;241m.\u001b[39mplot(scaler\u001b[38;5;241m.\u001b[39minverse_transform(df1))\n",
      "\u001b[1;31mValueError\u001b[0m: could not broadcast input array from shape (341,1) into shape (340,1)"
     ]
    }
   ],
   "source": [
    "look_back = 100\n",
    "\n",
    "\n",
    "# change train predictions for plotting\n",
    "trainPredictPlot = np.empty_like(df1)\n",
    "trainPredictPlot[:, :] = np.nan\n",
    "trainPredictPlot[look_back:len(train_predict)+look_back, :] = train_predict\n",
    "\n",
    "\n",
    "print(\"Length of test_predict:\", len(test_predict))\n",
    "print(\"Length of the slice:\", len(trainPredictPlot[len(train_predict) + (look_back * 2) + 1:len(df1) - (look_back * 2), :]))\n",
    "\n",
    "# change test predictions for plotting \n",
    "\n",
    "testPredictPlot = np.empty_like(df1)\n",
    "testPredictPlot[:, :] = np.nan\n",
    "testPredictPlot[len(train_predict) + (look_back * 2) + 1:len(train_predict) + (look_back * 2) + 1 + len(test_predict), :] = test_predict\n",
    "\n",
    "\n",
    "\n",
    "\n",
    "print(\"Length of testPredictPlot slice:\", len(trainPredictPlot[len(train_predict)+(look_back*2)+1:len(df1)-1, :]))\n",
    "\n",
    "plt.plot(scaler.inverse_transform(df1))\n",
    "plt.plot(trainPredictPlot)\n",
    "plt.plot(trainPredictPlot)"
   ]
  },
  {
   "cell_type": "code",
   "execution_count": 104,
   "metadata": {},
   "outputs": [
    {
     "data": {
      "image/png": "[encoded data removed]",
      "text/plain": [
       "<Figure size 1224x792 with 1 Axes>"
      ]
     },
     "metadata": {
      "needs_background": "light"
     },
     "output_type": "display_data"
    }
   ],
   "source": [
    "plt.figure(figsize=(17, 11))\n",
    "plt.xlabel('Time -> Latest time')\n",
    "plt.ylabel('Value')\n",
    "\n",
    "\n",
    "# Plot the original data\n",
    "plt.plot(scaler.inverse_transform(df1), label='Original Data', )\n",
    "\n",
    "# Plot the training predictions\n",
    "trainPredictPlot = np.empty_like(df1)\n",
    "trainPredictPlot[:, :] = np.nan\n",
    "trainPredictPlot[look_back:len(train_predict)+look_back, :] = train_predict\n",
    "plt.plot(trainPredictPlot, label='Training Predictions', color=\"green\")\n",
    "\n",
    "# Plot the testing predictions\n",
    "testPredictPlot = np.empty_like(df1)\n",
    "testPredictPlot[:, :] = np.nan\n",
    "testPredictPlot[len(train_predict) + (look_back * 2) :len(df1), :] = test_predict\n",
    "\n",
    "plt.plot(testPredictPlot, label='Testing Predictions',color=\"red\")\n",
    "\n",
    "\n",
    "plt.legend(loc='upper right',fontsize='xx-large')\n",
    "plt.show()"
   ]
  },
  {
   "cell_type": "code",
   "execution_count": 105,
   "metadata": {},
   "outputs": [
    {
     "data": {
      "text/plain": [
       "441"
      ]
     },
     "execution_count": 105,
     "metadata": {},
     "output_type": "execute_result"
    }
   ],
   "source": [
    "len(test_data)"
   ]
  },
  {
   "cell_type": "markdown",
   "metadata": {},
   "source": [
    "# Displaying predicted data for future Days"
   ]
  },
  {
   "cell_type": "code",
   "execution_count": null,
   "metadata": {},
   "outputs": [],
   "source": [
    "len(test_data) 12 / Sep ---> 13rd Sep"
   ]
  },
  {
   "cell_type": "code",
   "execution_count": 106,
   "metadata": {},
   "outputs": [
    {
     "data": {
      "text/plain": [
       "441"
      ]
     },
     "execution_count": 106,
     "metadata": {},
     "output_type": "execute_result"
    }
   ],
   "source": [
    "len(test_data)"
   ]
  },
  {
   "cell_type": "code",
   "execution_count": 107,
   "metadata": {},
   "outputs": [
    {
     "data": {
      "text/plain": [
       "(1, 100)"
      ]
     },
     "execution_count": 107,
     "metadata": {},
     "output_type": "execute_result"
    }
   ],
   "source": [
    "# taking data from previous 100 days from 341 to 441(last data)\n",
    "x_input=test_data[341:].reshape(1,-1)\n",
    "x_input.shape"
   ]
  },
  {
   "cell_type": "code",
   "execution_count": 109,
   "metadata": {},
   "outputs": [],
   "source": [
    "# convert Last 100 values to a list \n",
    "\n",
    "temp_input = list(x_input)\n",
    "temp_input = temp_input[0].tolist()"
   ]
  },
  {
   "cell_type": "code",
   "execution_count": null,
   "metadata": {},
   "outputs": [],
   "source": [
    "## \n",
    "lst_output =[]\n",
    "n_steps = 100\n",
    "i= 0\n",
    "\n",
    "while (i<30)"
   ]
  }
 ],
 "metadata": {
  "kernelspec": {
   "display_name": "Python 3",
   "language": "python",
   "name": "python3"
  },
  "language_info": {
   "codemirror_mode": {
    "name": "ipython",
    "version": 3
   },
   "file_extension": ".py",
   "mimetype": "text/x-python",
   "name": "python",
   "nbconvert_exporter": "python",
   "pygments_lexer": "ipython3",
   "version": "3.9.12"
  }
 },
 "nbformat": 4,
 "nbformat_minor": 2
}
