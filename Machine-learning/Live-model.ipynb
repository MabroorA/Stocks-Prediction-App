{
 "cells": [
  {
   "cell_type": "code",
   "execution_count": 33,
   "metadata": {},
   "outputs": [],
   "source": [
    "## libraries\n",
    "\n",
    "import requests\n",
    "import pandas as pd\n"
   ]
  },
  {
   "cell_type": "code",
   "execution_count": 34,
   "metadata": {},
   "outputs": [
    {
     "ename": "JSONDecodeError",
     "evalue": "[Errno Expecting value] <!DOCTYPE HTML PUBLIC \"-//W3C//DTD HTML 4.01 Transitional//EN\"\n  \"http://www.w3.org/TR/html4/loose.dtd\">\n<html>\n  <head>\n    <title>TypeError: The view function did not return a valid response. The function either returned None or ended without a return statement. // Werkzeug Debugger</title>\n    <link rel=\"stylesheet\" href=\"?__debugger__=yes&amp;cmd=resource&amp;f=style.css\"\n        type=\"text/css\">\n    <!-- We need to make sure this has a favicon so that the debugger does\n         not accidentally trigger a request to /favicon.ico which might\n         change the application's state. -->\n    <link rel=\"shortcut icon\"\n        href=\"?__debugger__=yes&amp;cmd=resource&amp;f=console.png\">\n    <script src=\"?__debugger__=yes&amp;cmd=resource&amp;f=debugger.js\"></script>\n    <script type=\"text/javascript\">\n      var TRACEBACK = 2040303551728,\n          CONSOLE_MODE = false,\n          EVALEX = true,\n          EVALEX_TRUSTED = false,\n          SECRET = \"X845r2GuYAw2wKCWpDdq\";\n    </script>\n  </head>\n  <body style=\"background-color: #fff\">\n    <div class=\"debugger\">\n<h1>TypeError</h1>\n<div class=\"detail\">\n  <p class=\"errormsg\">TypeError: The view function did not return a valid response. The function either returned None or ended without a return statement.</p>\n</div>\n<h2 class=\"traceback\">Traceback <em>(most recent call last)</em></h2>\n<div class=\"traceback\">\n  <h3></h3>\n  <ul><li><div class=\"frame\" id=\"frame-2040303551200\">\n  <h4>File <cite class=\"filename\">\"D:\\Anaconda\\Lib\\site-packages\\flask\\app.py\"</cite>,\n      line <em class=\"line\">2464</em>,\n      in <code class=\"function\">__call__</code></h4>\n  <div class=\"source \"><pre class=\"line before\"><span class=\"ws\"></span> </pre>\n<pre class=\"line before\"><span class=\"ws\">    </span>def __call__(self, environ, start_response):</pre>\n<pre class=\"line before\"><span class=\"ws\">        </span>&quot;&quot;&quot;The WSGI server calls the Flask application object as the</pre>\n<pre class=\"line before\"><span class=\"ws\">        </span>WSGI application. This calls :meth:`wsgi_app` which can be</pre>\n<pre class=\"line before\"><span class=\"ws\">        </span>wrapped to applying middleware.&quot;&quot;&quot;</pre>\n<pre class=\"line current\"><span class=\"ws\">        </span>return self.wsgi_app(environ, start_response)</pre>\n<pre class=\"line after\"><span class=\"ws\"></span> </pre>\n<pre class=\"line after\"><span class=\"ws\">    </span>def __repr__(self):</pre>\n<pre class=\"line after\"><span class=\"ws\">        </span>return &quot;&lt;%s %r&gt;&quot; % (self.__class__.__name__, self.name)</pre></div>\n</div>\n\n<li><div class=\"frame\" id=\"frame-2040303550672\">\n  <h4>File <cite class=\"filename\">\"D:\\Anaconda\\Lib\\site-packages\\flask\\app.py\"</cite>,\n      line <em class=\"line\">2450</em>,\n      in <code class=\"function\">wsgi_app</code></h4>\n  <div class=\"source \"><pre class=\"line before\"><span class=\"ws\">            </span>try:</pre>\n<pre class=\"line before\"><span class=\"ws\">                </span>ctx.push()</pre>\n<pre class=\"line before\"><span class=\"ws\">                </span>response = self.full_dispatch_request()</pre>\n<pre class=\"line before\"><span class=\"ws\">            </span>except Exception as e:</pre>\n<pre class=\"line before\"><span class=\"ws\">                </span>error = e</pre>\n<pre class=\"line current\"><span class=\"ws\">                </span>response = self.handle_exception(e)</pre>\n<pre class=\"line after\"><span class=\"ws\">            </span>except:  # noqa: B001</pre>\n<pre class=\"line after\"><span class=\"ws\">                </span>error = sys.exc_info()[1]</pre>\n<pre class=\"line after\"><span class=\"ws\">                </span>raise</pre>\n<pre class=\"line after\"><span class=\"ws\">            </span>return response(environ, start_response)</pre>\n<pre class=\"line after\"><span class=\"ws\">        </span>finally:</pre></div>\n</div>\n\n<li><div class=\"frame\" id=\"frame-2040303551440\">\n  <h4>File <cite class=\"filename\">\"D:\\Anaconda\\Lib\\site-packages\\flask_cors\\extension.py\"</cite>,\n      line <em class=\"line\">176</em>,\n      in <code class=\"function\">wrapped_function</code></h4>\n  <div class=\"source \"><pre class=\"line before\"><span class=\"ws\">        </span># Wrap exception handlers with cross_origin</pre>\n<pre class=\"line before\"><span class=\"ws\">        </span># These error handlers will still respect the behavior of the route</pre>\n<pre class=\"line before\"><span class=\"ws\">        </span>if options.get(&#x27;intercept_exceptions&#x27;, True):</pre>\n<pre class=\"line before\"><span class=\"ws\">            </span>def _after_request_decorator(f):</pre>\n<pre class=\"line before\"><span class=\"ws\">                </span>def wrapped_function(*args, **kwargs):</pre>\n<pre class=\"line current\"><span class=\"ws\">                    </span>return cors_after_request(app.make_response(f(*args, **kwargs)))</pre>\n<pre class=\"line after\"><span class=\"ws\">                </span>return wrapped_function</pre>\n<pre class=\"line after\"><span class=\"ws\"></span> </pre>\n<pre class=\"line after\"><span class=\"ws\">            </span>if hasattr(app, &#x27;handle_exception&#x27;):</pre>\n<pre class=\"line after\"><span class=\"ws\">                </span>app.handle_exception = _after_request_decorator(</pre>\n<pre class=\"line after\"><span class=\"ws\">                    </span>app.handle_exception)</pre></div>\n</div>\n\n<li><div class=\"frame\" id=\"frame-2040303552016\">\n  <h4>File <cite class=\"filename\">\"D:\\Anaconda\\Lib\\site-packages\\flask\\app.py\"</cite>,\n      line <em class=\"line\">1867</em>,\n      in <code class=\"function\">handle_exception</code></h4>\n  <div class=\"source \"><pre class=\"line before\"><span class=\"ws\">            </span># if we want to repropagate the exception, we can attempt to</pre>\n<pre class=\"line before\"><span class=\"ws\">            </span># raise it with the whole traceback in case we can do that</pre>\n<pre class=\"line before\"><span class=\"ws\">            </span># (the function was actually called from the except part)</pre>\n<pre class=\"line before\"><span class=\"ws\">            </span># otherwise, we just raise the error again</pre>\n<pre class=\"line before\"><span class=\"ws\">            </span>if exc_value is e:</pre>\n<pre class=\"line current\"><span class=\"ws\">                </span>reraise(exc_type, exc_value, tb)</pre>\n<pre class=\"line after\"><span class=\"ws\">            </span>else:</pre>\n<pre class=\"line after\"><span class=\"ws\">                </span>raise e</pre>\n<pre class=\"line after\"><span class=\"ws\"></span> </pre>\n<pre class=\"line after\"><span class=\"ws\">        </span>self.log_exception((exc_type, exc_value, tb))</pre>\n<pre class=\"line after\"><span class=\"ws\">        </span>server_error = InternalServerError()</pre></div>\n</div>\n\n<li><div class=\"frame\" id=\"frame-2040303551584\">\n  <h4>File <cite class=\"filename\">\"D:\\Anaconda\\Lib\\site-packages\\flask\\_compat.py\"</cite>,\n      line <em class=\"line\">39</em>,\n      in <code class=\"function\">reraise</code></h4>\n  <div class=\"source \"><pre class=\"line before\"><span class=\"ws\">    </span>import collections.abc as collections_abc</pre>\n<pre class=\"line before\"><span class=\"ws\"></span> </pre>\n<pre class=\"line before\"><span class=\"ws\">    </span>def reraise(tp, value, tb=None):</pre>\n<pre class=\"line before\"><span class=\"ws\">        </span>if value.__traceback__ is not tb:</pre>\n<pre class=\"line before\"><span class=\"ws\">            </span>raise value.with_traceback(tb)</pre>\n<pre class=\"line current\"><span class=\"ws\">        </span>raise value</pre>\n<pre class=\"line after\"><span class=\"ws\"></span> </pre>\n<pre class=\"line after\"><span class=\"ws\">    </span>implements_to_string = _identity</pre>\n<pre class=\"line after\"><span class=\"ws\"></span> </pre>\n<pre class=\"line after\"><span class=\"ws\"></span>else:</pre>\n<pre class=\"line after\"><span class=\"ws\">    </span>iterkeys = lambda d: d.iterkeys()</pre></div>\n</div>\n\n<li><div class=\"frame\" id=\"frame-2040303551104\">\n  <h4>File <cite class=\"filename\">\"D:\\Anaconda\\Lib\\site-packages\\flask\\app.py\"</cite>,\n      line <em class=\"line\">2447</em>,\n      in <code class=\"function\">wsgi_app</code></h4>\n  <div class=\"source \"><pre class=\"line before\"><span class=\"ws\">        </span>ctx = self.request_context(environ)</pre>\n<pre class=\"line before\"><span class=\"ws\">        </span>error = None</pre>\n<pre class=\"line before\"><span class=\"ws\">        </span>try:</pre>\n<pre class=\"line before\"><span class=\"ws\">            </span>try:</pre>\n<pre class=\"line before\"><span class=\"ws\">                </span>ctx.push()</pre>\n<pre class=\"line current\"><span class=\"ws\">                </span>response = self.full_dispatch_request()</pre>\n<pre class=\"line after\"><span class=\"ws\">            </span>except Exception as e:</pre>\n<pre class=\"line after\"><span class=\"ws\">                </span>error = e</pre>\n<pre class=\"line after\"><span class=\"ws\">                </span>response = self.handle_exception(e)</pre>\n<pre class=\"line after\"><span class=\"ws\">            </span>except:  # noqa: B001</pre>\n<pre class=\"line after\"><span class=\"ws\">                </span>error = sys.exc_info()[1]</pre></div>\n</div>\n\n<li><div class=\"frame\" id=\"frame-2040303550768\">\n  <h4>File <cite class=\"filename\">\"D:\\Anaconda\\Lib\\site-packages\\flask\\app.py\"</cite>,\n      line <em class=\"line\">1953</em>,\n      in <code class=\"function\">full_dispatch_request</code></h4>\n  <div class=\"source \"><pre class=\"line before\"><span class=\"ws\">            </span>rv = self.preprocess_request()</pre>\n<pre class=\"line before\"><span class=\"ws\">            </span>if rv is None:</pre>\n<pre class=\"line before\"><span class=\"ws\">                </span>rv = self.dispatch_request()</pre>\n<pre class=\"line before\"><span class=\"ws\">        </span>except Exception as e:</pre>\n<pre class=\"line before\"><span class=\"ws\">            </span>rv = self.handle_user_exception(e)</pre>\n<pre class=\"line current\"><span class=\"ws\">        </span>return self.finalize_request(rv)</pre>\n<pre class=\"line after\"><span class=\"ws\"></span> </pre>\n<pre class=\"line after\"><span class=\"ws\">    </span>def finalize_request(self, rv, from_error_handler=False):</pre>\n<pre class=\"line after\"><span class=\"ws\">        </span>&quot;&quot;&quot;Given the return value from a view function this finalizes</pre>\n<pre class=\"line after\"><span class=\"ws\">        </span>the request by converting it into a response and invoking the</pre>\n<pre class=\"line after\"><span class=\"ws\">        </span>postprocessing functions.  This is invoked for both normal</pre></div>\n</div>\n\n<li><div class=\"frame\" id=\"frame-2040303551872\">\n  <h4>File <cite class=\"filename\">\"D:\\Anaconda\\Lib\\site-packages\\flask\\app.py\"</cite>,\n      line <em class=\"line\">1968</em>,\n      in <code class=\"function\">finalize_request</code></h4>\n  <div class=\"source \"><pre class=\"line before\"><span class=\"ws\">        </span>with the `from_error_handler` flag.  If enabled, failures in</pre>\n<pre class=\"line before\"><span class=\"ws\">        </span>response processing will be logged and otherwise ignored.</pre>\n<pre class=\"line before\"><span class=\"ws\"></span> </pre>\n<pre class=\"line before\"><span class=\"ws\">        </span>:internal:</pre>\n<pre class=\"line before\"><span class=\"ws\">        </span>&quot;&quot;&quot;</pre>\n<pre class=\"line current\"><span class=\"ws\">        </span>response = self.make_response(rv)</pre>\n<pre class=\"line after\"><span class=\"ws\">        </span>try:</pre>\n<pre class=\"line after\"><span class=\"ws\">            </span>response = self.process_response(response)</pre>\n<pre class=\"line after\"><span class=\"ws\">            </span>request_finished.send(self, response=response)</pre>\n<pre class=\"line after\"><span class=\"ws\">        </span>except Exception:</pre>\n<pre class=\"line after\"><span class=\"ws\">            </span>if not from_error_handler:</pre></div>\n</div>\n\n<li><div class=\"frame\" id=\"frame-2040303552256\">\n  <h4>File <cite class=\"filename\">\"D:\\Anaconda\\Lib\\site-packages\\flask\\app.py\"</cite>,\n      line <em class=\"line\">2097</em>,\n      in <code class=\"function\">make_response</code></h4>\n  <div class=\"source \"><pre class=\"line before\"><span class=\"ws\">                    </span>&quot; (body, status), or (body, headers).&quot;</pre>\n<pre class=\"line before\"><span class=\"ws\">                </span>)</pre>\n<pre class=\"line before\"><span class=\"ws\"></span> </pre>\n<pre class=\"line before\"><span class=\"ws\">        </span># the body must not be None</pre>\n<pre class=\"line before\"><span class=\"ws\">        </span>if rv is None:</pre>\n<pre class=\"line current\"><span class=\"ws\">            </span>raise TypeError(</pre>\n<pre class=\"line after\"><span class=\"ws\">                </span>&quot;The view function did not return a valid response. The&quot;</pre>\n<pre class=\"line after\"><span class=\"ws\">                </span>&quot; function either returned None or ended without a return&quot;</pre>\n<pre class=\"line after\"><span class=\"ws\">                </span>&quot; statement.&quot;</pre>\n<pre class=\"line after\"><span class=\"ws\">            </span>)</pre>\n<pre class=\"line after\"><span class=\"ws\"></span> </pre></div>\n</div>\n</ul>\n  <blockquote>TypeError: The view function did not return a valid response. The function either returned None or ended without a return statement.</blockquote>\n</div>\n\n<div class=\"plain\">\n    <p>\n      This is the Copy/Paste friendly version of the traceback.\n    </p>\n    <textarea cols=\"50\" rows=\"10\" name=\"code\" readonly>Traceback (most recent call last):\n  File &quot;D:\\Anaconda\\Lib\\site-packages\\flask\\app.py&quot;, line 2464, in __call__\n    return self.wsgi_app(environ, start_response)\n  File &quot;D:\\Anaconda\\Lib\\site-packages\\flask\\app.py&quot;, line 2450, in wsgi_app\n    response = self.handle_exception(e)\n  File &quot;D:\\Anaconda\\Lib\\site-packages\\flask_cors\\extension.py&quot;, line 176, in wrapped_function\n    return cors_after_request(app.make_response(f(*args, **kwargs)))\n  File &quot;D:\\Anaconda\\Lib\\site-packages\\flask\\app.py&quot;, line 1867, in handle_exception\n    reraise(exc_type, exc_value, tb)\n  File &quot;D:\\Anaconda\\Lib\\site-packages\\flask\\_compat.py&quot;, line 39, in reraise\n    raise value\n  File &quot;D:\\Anaconda\\Lib\\site-packages\\flask\\app.py&quot;, line 2447, in wsgi_app\n    response = self.full_dispatch_request()\n  File &quot;D:\\Anaconda\\Lib\\site-packages\\flask\\app.py&quot;, line 1953, in full_dispatch_request\n    return self.finalize_request(rv)\n  File &quot;D:\\Anaconda\\Lib\\site-packages\\flask\\app.py&quot;, line 1968, in finalize_request\n    response = self.make_response(rv)\n  File &quot;D:\\Anaconda\\Lib\\site-packages\\flask\\app.py&quot;, line 2097, in make_response\n    raise TypeError(\nTypeError: The view function did not return a valid response. The function either returned None or ended without a return statement.</textarea>\n</div>\n<div class=\"explanation\">\n  The debugger caught an exception in your WSGI application.  You can now\n  look at the traceback which led to the error.  <span class=\"nojavascript\">\n  If you enable JavaScript you can also use additional features such as code\n  execution (if the evalex feature is enabled), automatic pasting of the\n  exceptions and much more.</span>\n</div>\n      <div class=\"footer\">\n        Brought to you by <strong class=\"arthur\">DON'T PANIC</strong>, your\n        friendly Werkzeug powered traceback interpreter.\n      </div>\n    </div>\n\n    <div class=\"pin-prompt\">\n      <div class=\"inner\">\n        <h3>Console Locked</h3>\n        <p>\n          The console is locked and needs to be unlocked by entering the PIN.\n          You can find the PIN printed out on the standard output of your\n          shell that runs the server.\n        <form>\n          <p>PIN:\n            <input type=text name=pin size=14>\n            <input type=submit name=btn value=\"Confirm Pin\">\n        </form>\n      </div>\n    </div>\n  </body>\n</html>\n\n<!--\n\nTraceback (most recent call last):\n  File \"D:\\Anaconda\\Lib\\site-packages\\flask\\app.py\", line 2464, in __call__\n    return self.wsgi_app(environ, start_response)\n  File \"D:\\Anaconda\\Lib\\site-packages\\flask\\app.py\", line 2450, in wsgi_app\n    response = self.handle_exception(e)\n  File \"D:\\Anaconda\\Lib\\site-packages\\flask_cors\\extension.py\", line 176, in wrapped_function\n    return cors_after_request(app.make_response(f(*args, **kwargs)))\n  File \"D:\\Anaconda\\Lib\\site-packages\\flask\\app.py\", line 1867, in handle_exception\n    reraise(exc_type, exc_value, tb)\n  File \"D:\\Anaconda\\Lib\\site-packages\\flask\\_compat.py\", line 39, in reraise\n    raise value\n  File \"D:\\Anaconda\\Lib\\site-packages\\flask\\app.py\", line 2447, in wsgi_app\n    response = self.full_dispatch_request()\n  File \"D:\\Anaconda\\Lib\\site-packages\\flask\\app.py\", line 1953, in full_dispatch_request\n    return self.finalize_request(rv)\n  File \"D:\\Anaconda\\Lib\\site-packages\\flask\\app.py\", line 1968, in finalize_request\n    response = self.make_response(rv)\n  File \"D:\\Anaconda\\Lib\\site-packages\\flask\\app.py\", line 2097, in make_response\n    raise TypeError(\nTypeError: The view function did not return a valid response. The function either returned None or ended without a return statement.\n\n-->\n: 0",
     "output_type": "error",
     "traceback": [
      "\u001b[1;31m---------------------------------------------------------------------------\u001b[0m",
      "\u001b[1;31mJSONDecodeError\u001b[0m                           Traceback (most recent call last)",
      "File \u001b[1;32md:\\Anaconda\\lib\\site-packages\\requests\\models.py:910\u001b[0m, in \u001b[0;36mResponse.json\u001b[1;34m(self, **kwargs)\u001b[0m\n\u001b[0;32m    909\u001b[0m \u001b[38;5;28;01mtry\u001b[39;00m:\n\u001b[1;32m--> 910\u001b[0m     \u001b[38;5;28;01mreturn\u001b[39;00m complexjson\u001b[38;5;241m.\u001b[39mloads(\u001b[38;5;28mself\u001b[39m\u001b[38;5;241m.\u001b[39mtext, \u001b[38;5;241m*\u001b[39m\u001b[38;5;241m*\u001b[39mkwargs)\n\u001b[0;32m    911\u001b[0m \u001b[38;5;28;01mexcept\u001b[39;00m JSONDecodeError \u001b[38;5;28;01mas\u001b[39;00m e:\n\u001b[0;32m    912\u001b[0m     \u001b[38;5;66;03m# Catch JSON-related errors and raise as requests.JSONDecodeError\u001b[39;00m\n\u001b[0;32m    913\u001b[0m     \u001b[38;5;66;03m# This aliases json.JSONDecodeError and simplejson.JSONDecodeError\u001b[39;00m\n",
      "File \u001b[1;32md:\\Anaconda\\lib\\json\\__init__.py:346\u001b[0m, in \u001b[0;36mloads\u001b[1;34m(s, cls, object_hook, parse_float, parse_int, parse_constant, object_pairs_hook, **kw)\u001b[0m\n\u001b[0;32m    343\u001b[0m \u001b[38;5;28;01mif\u001b[39;00m (\u001b[38;5;28mcls\u001b[39m \u001b[38;5;129;01mis\u001b[39;00m \u001b[38;5;28;01mNone\u001b[39;00m \u001b[38;5;129;01mand\u001b[39;00m object_hook \u001b[38;5;129;01mis\u001b[39;00m \u001b[38;5;28;01mNone\u001b[39;00m \u001b[38;5;129;01mand\u001b[39;00m\n\u001b[0;32m    344\u001b[0m         parse_int \u001b[38;5;129;01mis\u001b[39;00m \u001b[38;5;28;01mNone\u001b[39;00m \u001b[38;5;129;01mand\u001b[39;00m parse_float \u001b[38;5;129;01mis\u001b[39;00m \u001b[38;5;28;01mNone\u001b[39;00m \u001b[38;5;129;01mand\u001b[39;00m\n\u001b[0;32m    345\u001b[0m         parse_constant \u001b[38;5;129;01mis\u001b[39;00m \u001b[38;5;28;01mNone\u001b[39;00m \u001b[38;5;129;01mand\u001b[39;00m object_pairs_hook \u001b[38;5;129;01mis\u001b[39;00m \u001b[38;5;28;01mNone\u001b[39;00m \u001b[38;5;129;01mand\u001b[39;00m \u001b[38;5;129;01mnot\u001b[39;00m kw):\n\u001b[1;32m--> 346\u001b[0m     \u001b[38;5;28;01mreturn\u001b[39;00m \u001b[43m_default_decoder\u001b[49m\u001b[38;5;241;43m.\u001b[39;49m\u001b[43mdecode\u001b[49m\u001b[43m(\u001b[49m\u001b[43ms\u001b[49m\u001b[43m)\u001b[49m\n\u001b[0;32m    347\u001b[0m \u001b[38;5;28;01mif\u001b[39;00m \u001b[38;5;28mcls\u001b[39m \u001b[38;5;129;01mis\u001b[39;00m \u001b[38;5;28;01mNone\u001b[39;00m:\n",
      "File \u001b[1;32md:\\Anaconda\\lib\\json\\decoder.py:337\u001b[0m, in \u001b[0;36mJSONDecoder.decode\u001b[1;34m(self, s, _w)\u001b[0m\n\u001b[0;32m    333\u001b[0m \u001b[38;5;124;03m\"\"\"Return the Python representation of ``s`` (a ``str`` instance\u001b[39;00m\n\u001b[0;32m    334\u001b[0m \u001b[38;5;124;03mcontaining a JSON document).\u001b[39;00m\n\u001b[0;32m    335\u001b[0m \n\u001b[0;32m    336\u001b[0m \u001b[38;5;124;03m\"\"\"\u001b[39;00m\n\u001b[1;32m--> 337\u001b[0m obj, end \u001b[38;5;241m=\u001b[39m \u001b[38;5;28;43mself\u001b[39;49m\u001b[38;5;241;43m.\u001b[39;49m\u001b[43mraw_decode\u001b[49m\u001b[43m(\u001b[49m\u001b[43ms\u001b[49m\u001b[43m,\u001b[49m\u001b[43m \u001b[49m\u001b[43midx\u001b[49m\u001b[38;5;241;43m=\u001b[39;49m\u001b[43m_w\u001b[49m\u001b[43m(\u001b[49m\u001b[43ms\u001b[49m\u001b[43m,\u001b[49m\u001b[43m \u001b[49m\u001b[38;5;241;43m0\u001b[39;49m\u001b[43m)\u001b[49m\u001b[38;5;241;43m.\u001b[39;49m\u001b[43mend\u001b[49m\u001b[43m(\u001b[49m\u001b[43m)\u001b[49m\u001b[43m)\u001b[49m\n\u001b[0;32m    338\u001b[0m end \u001b[38;5;241m=\u001b[39m _w(s, end)\u001b[38;5;241m.\u001b[39mend()\n",
      "File \u001b[1;32md:\\Anaconda\\lib\\json\\decoder.py:355\u001b[0m, in \u001b[0;36mJSONDecoder.raw_decode\u001b[1;34m(self, s, idx)\u001b[0m\n\u001b[0;32m    354\u001b[0m \u001b[38;5;28;01mexcept\u001b[39;00m \u001b[38;5;167;01mStopIteration\u001b[39;00m \u001b[38;5;28;01mas\u001b[39;00m err:\n\u001b[1;32m--> 355\u001b[0m     \u001b[38;5;28;01mraise\u001b[39;00m JSONDecodeError(\u001b[38;5;124m\"\u001b[39m\u001b[38;5;124mExpecting value\u001b[39m\u001b[38;5;124m\"\u001b[39m, s, err\u001b[38;5;241m.\u001b[39mvalue) \u001b[38;5;28;01mfrom\u001b[39;00m \u001b[38;5;28mNone\u001b[39m\n\u001b[0;32m    356\u001b[0m \u001b[38;5;28;01mreturn\u001b[39;00m obj, end\n",
      "\u001b[1;31mJSONDecodeError\u001b[0m: Expecting value: line 1 column 1 (char 0)",
      "\nDuring handling of the above exception, another exception occurred:\n",
      "\u001b[1;31mJSONDecodeError\u001b[0m                           Traceback (most recent call last)",
      "Input \u001b[1;32mIn [34]\u001b[0m, in \u001b[0;36m<cell line: 5>\u001b[1;34m()\u001b[0m\n\u001b[0;32m      2\u001b[0m response_get \u001b[38;5;241m=\u001b[39m requests\u001b[38;5;241m.\u001b[39mget(\u001b[38;5;124m'\u001b[39m\u001b[38;5;124mhttp://192.168.0.17:5000/predict\u001b[39m\u001b[38;5;124m'\u001b[39m)\n\u001b[0;32m      3\u001b[0m \u001b[38;5;66;03m# !!Working\u001b[39;00m\n\u001b[1;32m----> 5\u001b[0m data \u001b[38;5;241m=\u001b[39m \u001b[43mresponse_get\u001b[49m\u001b[38;5;241;43m.\u001b[39;49m\u001b[43mjson\u001b[49m\u001b[43m(\u001b[49m\u001b[43m)\u001b[49m\n\u001b[0;32m      6\u001b[0m \u001b[38;5;28mprint\u001b[39m(data)\n",
      "File \u001b[1;32md:\\Anaconda\\lib\\site-packages\\requests\\models.py:917\u001b[0m, in \u001b[0;36mResponse.json\u001b[1;34m(self, **kwargs)\u001b[0m\n\u001b[0;32m    915\u001b[0m     \u001b[38;5;28;01mraise\u001b[39;00m RequestsJSONDecodeError(e\u001b[38;5;241m.\u001b[39mmessage)\n\u001b[0;32m    916\u001b[0m \u001b[38;5;28;01melse\u001b[39;00m:\n\u001b[1;32m--> 917\u001b[0m     \u001b[38;5;28;01mraise\u001b[39;00m RequestsJSONDecodeError(e\u001b[38;5;241m.\u001b[39mmsg, e\u001b[38;5;241m.\u001b[39mdoc, e\u001b[38;5;241m.\u001b[39mpos)\n",
      "\u001b[1;31mJSONDecodeError\u001b[0m: [Errno Expecting value] <!DOCTYPE HTML PUBLIC \"-//W3C//DTD HTML 4.01 Transitional//EN\"\n  \"http://www.w3.org/TR/html4/loose.dtd\">\n<html>\n  <head>\n    <title>TypeError: The view function did not return a valid response. The function either returned None or ended without a return statement. // Werkzeug Debugger</title>\n    <link rel=\"stylesheet\" href=\"?__debugger__=yes&amp;cmd=resource&amp;f=style.css\"\n        type=\"text/css\">\n    <!-- We need to make sure this has a favicon so that the debugger does\n         not accidentally trigger a request to /favicon.ico which might\n         change the application's state. -->\n    <link rel=\"shortcut icon\"\n        href=\"?__debugger__=yes&amp;cmd=resource&amp;f=console.png\">\n    <script src=\"?__debugger__=yes&amp;cmd=resource&amp;f=debugger.js\"></script>\n    <script type=\"text/javascript\">\n      var TRACEBACK = 2040303551728,\n          CONSOLE_MODE = false,\n          EVALEX = true,\n          EVALEX_TRUSTED = false,\n          SECRET = \"X845r2GuYAw2wKCWpDdq\";\n    </script>\n  </head>\n  <body style=\"background-color: #fff\">\n    <div class=\"debugger\">\n<h1>TypeError</h1>\n<div class=\"detail\">\n  <p class=\"errormsg\">TypeError: The view function did not return a valid response. The function either returned None or ended without a return statement.</p>\n</div>\n<h2 class=\"traceback\">Traceback <em>(most recent call last)</em></h2>\n<div class=\"traceback\">\n  <h3></h3>\n  <ul><li><div class=\"frame\" id=\"frame-2040303551200\">\n  <h4>File <cite class=\"filename\">\"D:\\Anaconda\\Lib\\site-packages\\flask\\app.py\"</cite>,\n      line <em class=\"line\">2464</em>,\n      in <code class=\"function\">__call__</code></h4>\n  <div class=\"source \"><pre class=\"line before\"><span class=\"ws\"></span> </pre>\n<pre class=\"line before\"><span class=\"ws\">    </span>def __call__(self, environ, start_response):</pre>\n<pre class=\"line before\"><span class=\"ws\">        </span>&quot;&quot;&quot;The WSGI server calls the Flask application object as the</pre>\n<pre class=\"line before\"><span class=\"ws\">        </span>WSGI application. This calls :meth:`wsgi_app` which can be</pre>\n<pre class=\"line before\"><span class=\"ws\">        </span>wrapped to applying middleware.&quot;&quot;&quot;</pre>\n<pre class=\"line current\"><span class=\"ws\">        </span>return self.wsgi_app(environ, start_response)</pre>\n<pre class=\"line after\"><span class=\"ws\"></span> </pre>\n<pre class=\"line after\"><span class=\"ws\">    </span>def __repr__(self):</pre>\n<pre class=\"line after\"><span class=\"ws\">        </span>return &quot;&lt;%s %r&gt;&quot; % (self.__class__.__name__, self.name)</pre></div>\n</div>\n\n<li><div class=\"frame\" id=\"frame-2040303550672\">\n  <h4>File <cite class=\"filename\">\"D:\\Anaconda\\Lib\\site-packages\\flask\\app.py\"</cite>,\n      line <em class=\"line\">2450</em>,\n      in <code class=\"function\">wsgi_app</code></h4>\n  <div class=\"source \"><pre class=\"line before\"><span class=\"ws\">            </span>try:</pre>\n<pre class=\"line before\"><span class=\"ws\">                </span>ctx.push()</pre>\n<pre class=\"line before\"><span class=\"ws\">                </span>response = self.full_dispatch_request()</pre>\n<pre class=\"line before\"><span class=\"ws\">            </span>except Exception as e:</pre>\n<pre class=\"line before\"><span class=\"ws\">                </span>error = e</pre>\n<pre class=\"line current\"><span class=\"ws\">                </span>response = self.handle_exception(e)</pre>\n<pre class=\"line after\"><span class=\"ws\">            </span>except:  # noqa: B001</pre>\n<pre class=\"line after\"><span class=\"ws\">                </span>error = sys.exc_info()[1]</pre>\n<pre class=\"line after\"><span class=\"ws\">                </span>raise</pre>\n<pre class=\"line after\"><span class=\"ws\">            </span>return response(environ, start_response)</pre>\n<pre class=\"line after\"><span class=\"ws\">        </span>finally:</pre></div>\n</div>\n\n<li><div class=\"frame\" id=\"frame-2040303551440\">\n  <h4>File <cite class=\"filename\">\"D:\\Anaconda\\Lib\\site-packages\\flask_cors\\extension.py\"</cite>,\n      line <em class=\"line\">176</em>,\n      in <code class=\"function\">wrapped_function</code></h4>\n  <div class=\"source \"><pre class=\"line before\"><span class=\"ws\">        </span># Wrap exception handlers with cross_origin</pre>\n<pre class=\"line before\"><span class=\"ws\">        </span># These error handlers will still respect the behavior of the route</pre>\n<pre class=\"line before\"><span class=\"ws\">        </span>if options.get(&#x27;intercept_exceptions&#x27;, True):</pre>\n<pre class=\"line before\"><span class=\"ws\">            </span>def _after_request_decorator(f):</pre>\n<pre class=\"line before\"><span class=\"ws\">                </span>def wrapped_function(*args, **kwargs):</pre>\n<pre class=\"line current\"><span class=\"ws\">                    </span>return cors_after_request(app.make_response(f(*args, **kwargs)))</pre>\n<pre class=\"line after\"><span class=\"ws\">                </span>return wrapped_function</pre>\n<pre class=\"line after\"><span class=\"ws\"></span> </pre>\n<pre class=\"line after\"><span class=\"ws\">            </span>if hasattr(app, &#x27;handle_exception&#x27;):</pre>\n<pre class=\"line after\"><span class=\"ws\">                </span>app.handle_exception = _after_request_decorator(</pre>\n<pre class=\"line after\"><span class=\"ws\">                    </span>app.handle_exception)</pre></div>\n</div>\n\n<li><div class=\"frame\" id=\"frame-2040303552016\">\n  <h4>File <cite class=\"filename\">\"D:\\Anaconda\\Lib\\site-packages\\flask\\app.py\"</cite>,\n      line <em class=\"line\">1867</em>,\n      in <code class=\"function\">handle_exception</code></h4>\n  <div class=\"source \"><pre class=\"line before\"><span class=\"ws\">            </span># if we want to repropagate the exception, we can attempt to</pre>\n<pre class=\"line before\"><span class=\"ws\">            </span># raise it with the whole traceback in case we can do that</pre>\n<pre class=\"line before\"><span class=\"ws\">            </span># (the function was actually called from the except part)</pre>\n<pre class=\"line before\"><span class=\"ws\">            </span># otherwise, we just raise the error again</pre>\n<pre class=\"line before\"><span class=\"ws\">            </span>if exc_value is e:</pre>\n<pre class=\"line current\"><span class=\"ws\">                </span>reraise(exc_type, exc_value, tb)</pre>\n<pre class=\"line after\"><span class=\"ws\">            </span>else:</pre>\n<pre class=\"line after\"><span class=\"ws\">                </span>raise e</pre>\n<pre class=\"line after\"><span class=\"ws\"></span> </pre>\n<pre class=\"line after\"><span class=\"ws\">        </span>self.log_exception((exc_type, exc_value, tb))</pre>\n<pre class=\"line after\"><span class=\"ws\">        </span>server_error = InternalServerError()</pre></div>\n</div>\n\n<li><div class=\"frame\" id=\"frame-2040303551584\">\n  <h4>File <cite class=\"filename\">\"D:\\Anaconda\\Lib\\site-packages\\flask\\_compat.py\"</cite>,\n      line <em class=\"line\">39</em>,\n      in <code class=\"function\">reraise</code></h4>\n  <div class=\"source \"><pre class=\"line before\"><span class=\"ws\">    </span>import collections.abc as collections_abc</pre>\n<pre class=\"line before\"><span class=\"ws\"></span> </pre>\n<pre class=\"line before\"><span class=\"ws\">    </span>def reraise(tp, value, tb=None):</pre>\n<pre class=\"line before\"><span class=\"ws\">        </span>if value.__traceback__ is not tb:</pre>\n<pre class=\"line before\"><span class=\"ws\">            </span>raise value.with_traceback(tb)</pre>\n<pre class=\"line current\"><span class=\"ws\">        </span>raise value</pre>\n<pre class=\"line after\"><span class=\"ws\"></span> </pre>\n<pre class=\"line after\"><span class=\"ws\">    </span>implements_to_string = _identity</pre>\n<pre class=\"line after\"><span class=\"ws\"></span> </pre>\n<pre class=\"line after\"><span class=\"ws\"></span>else:</pre>\n<pre class=\"line after\"><span class=\"ws\">    </span>iterkeys = lambda d: d.iterkeys()</pre></div>\n</div>\n\n<li><div class=\"frame\" id=\"frame-2040303551104\">\n  <h4>File <cite class=\"filename\">\"D:\\Anaconda\\Lib\\site-packages\\flask\\app.py\"</cite>,\n      line <em class=\"line\">2447</em>,\n      in <code class=\"function\">wsgi_app</code></h4>\n  <div class=\"source \"><pre class=\"line before\"><span class=\"ws\">        </span>ctx = self.request_context(environ)</pre>\n<pre class=\"line before\"><span class=\"ws\">        </span>error = None</pre>\n<pre class=\"line before\"><span class=\"ws\">        </span>try:</pre>\n<pre class=\"line before\"><span class=\"ws\">            </span>try:</pre>\n<pre class=\"line before\"><span class=\"ws\">                </span>ctx.push()</pre>\n<pre class=\"line current\"><span class=\"ws\">                </span>response = self.full_dispatch_request()</pre>\n<pre class=\"line after\"><span class=\"ws\">            </span>except Exception as e:</pre>\n<pre class=\"line after\"><span class=\"ws\">                </span>error = e</pre>\n<pre class=\"line after\"><span class=\"ws\">                </span>response = self.handle_exception(e)</pre>\n<pre class=\"line after\"><span class=\"ws\">            </span>except:  # noqa: B001</pre>\n<pre class=\"line after\"><span class=\"ws\">                </span>error = sys.exc_info()[1]</pre></div>\n</div>\n\n<li><div class=\"frame\" id=\"frame-2040303550768\">\n  <h4>File <cite class=\"filename\">\"D:\\Anaconda\\Lib\\site-packages\\flask\\app.py\"</cite>,\n      line <em class=\"line\">1953</em>,\n      in <code class=\"function\">full_dispatch_request</code></h4>\n  <div class=\"source \"><pre class=\"line before\"><span class=\"ws\">            </span>rv = self.preprocess_request()</pre>\n<pre class=\"line before\"><span class=\"ws\">            </span>if rv is None:</pre>\n<pre class=\"line before\"><span class=\"ws\">                </span>rv = self.dispatch_request()</pre>\n<pre class=\"line before\"><span class=\"ws\">        </span>except Exception as e:</pre>\n<pre class=\"line before\"><span class=\"ws\">            </span>rv = self.handle_user_exception(e)</pre>\n<pre class=\"line current\"><span class=\"ws\">        </span>return self.finalize_request(rv)</pre>\n<pre class=\"line after\"><span class=\"ws\"></span> </pre>\n<pre class=\"line after\"><span class=\"ws\">    </span>def finalize_request(self, rv, from_error_handler=False):</pre>\n<pre class=\"line after\"><span class=\"ws\">        </span>&quot;&quot;&quot;Given the return value from a view function this finalizes</pre>\n<pre class=\"line after\"><span class=\"ws\">        </span>the request by converting it into a response and invoking the</pre>\n<pre class=\"line after\"><span class=\"ws\">        </span>postprocessing functions.  This is invoked for both normal</pre></div>\n</div>\n\n<li><div class=\"frame\" id=\"frame-2040303551872\">\n  <h4>File <cite class=\"filename\">\"D:\\Anaconda\\Lib\\site-packages\\flask\\app.py\"</cite>,\n      line <em class=\"line\">1968</em>,\n      in <code class=\"function\">finalize_request</code></h4>\n  <div class=\"source \"><pre class=\"line before\"><span class=\"ws\">        </span>with the `from_error_handler` flag.  If enabled, failures in</pre>\n<pre class=\"line before\"><span class=\"ws\">        </span>response processing will be logged and otherwise ignored.</pre>\n<pre class=\"line before\"><span class=\"ws\"></span> </pre>\n<pre class=\"line before\"><span class=\"ws\">        </span>:internal:</pre>\n<pre class=\"line before\"><span class=\"ws\">        </span>&quot;&quot;&quot;</pre>\n<pre class=\"line current\"><span class=\"ws\">        </span>response = self.make_response(rv)</pre>\n<pre class=\"line after\"><span class=\"ws\">        </span>try:</pre>\n<pre class=\"line after\"><span class=\"ws\">            </span>response = self.process_response(response)</pre>\n<pre class=\"line after\"><span class=\"ws\">            </span>request_finished.send(self, response=response)</pre>\n<pre class=\"line after\"><span class=\"ws\">        </span>except Exception:</pre>\n<pre class=\"line after\"><span class=\"ws\">            </span>if not from_error_handler:</pre></div>\n</div>\n\n<li><div class=\"frame\" id=\"frame-2040303552256\">\n  <h4>File <cite class=\"filename\">\"D:\\Anaconda\\Lib\\site-packages\\flask\\app.py\"</cite>,\n      line <em class=\"line\">2097</em>,\n      in <code class=\"function\">make_response</code></h4>\n  <div class=\"source \"><pre class=\"line before\"><span class=\"ws\">                    </span>&quot; (body, status), or (body, headers).&quot;</pre>\n<pre class=\"line before\"><span class=\"ws\">                </span>)</pre>\n<pre class=\"line before\"><span class=\"ws\"></span> </pre>\n<pre class=\"line before\"><span class=\"ws\">        </span># the body must not be None</pre>\n<pre class=\"line before\"><span class=\"ws\">        </span>if rv is None:</pre>\n<pre class=\"line current\"><span class=\"ws\">            </span>raise TypeError(</pre>\n<pre class=\"line after\"><span class=\"ws\">                </span>&quot;The view function did not return a valid response. The&quot;</pre>\n<pre class=\"line after\"><span class=\"ws\">                </span>&quot; function either returned None or ended without a return&quot;</pre>\n<pre class=\"line after\"><span class=\"ws\">                </span>&quot; statement.&quot;</pre>\n<pre class=\"line after\"><span class=\"ws\">            </span>)</pre>\n<pre class=\"line after\"><span class=\"ws\"></span> </pre></div>\n</div>\n</ul>\n  <blockquote>TypeError: The view function did not return a valid response. The function either returned None or ended without a return statement.</blockquote>\n</div>\n\n<div class=\"plain\">\n    <p>\n      This is the Copy/Paste friendly version of the traceback.\n    </p>\n    <textarea cols=\"50\" rows=\"10\" name=\"code\" readonly>Traceback (most recent call last):\n  File &quot;D:\\Anaconda\\Lib\\site-packages\\flask\\app.py&quot;, line 2464, in __call__\n    return self.wsgi_app(environ, start_response)\n  File &quot;D:\\Anaconda\\Lib\\site-packages\\flask\\app.py&quot;, line 2450, in wsgi_app\n    response = self.handle_exception(e)\n  File &quot;D:\\Anaconda\\Lib\\site-packages\\flask_cors\\extension.py&quot;, line 176, in wrapped_function\n    return cors_after_request(app.make_response(f(*args, **kwargs)))\n  File &quot;D:\\Anaconda\\Lib\\site-packages\\flask\\app.py&quot;, line 1867, in handle_exception\n    reraise(exc_type, exc_value, tb)\n  File &quot;D:\\Anaconda\\Lib\\site-packages\\flask\\_compat.py&quot;, line 39, in reraise\n    raise value\n  File &quot;D:\\Anaconda\\Lib\\site-packages\\flask\\app.py&quot;, line 2447, in wsgi_app\n    response = self.full_dispatch_request()\n  File &quot;D:\\Anaconda\\Lib\\site-packages\\flask\\app.py&quot;, line 1953, in full_dispatch_request\n    return self.finalize_request(rv)\n  File &quot;D:\\Anaconda\\Lib\\site-packages\\flask\\app.py&quot;, line 1968, in finalize_request\n    response = self.make_response(rv)\n  File &quot;D:\\Anaconda\\Lib\\site-packages\\flask\\app.py&quot;, line 2097, in make_response\n    raise TypeError(\nTypeError: The view function did not return a valid response. The function either returned None or ended without a return statement.</textarea>\n</div>\n<div class=\"explanation\">\n  The debugger caught an exception in your WSGI application.  You can now\n  look at the traceback which led to the error.  <span class=\"nojavascript\">\n  If you enable JavaScript you can also use additional features such as code\n  execution (if the evalex feature is enabled), automatic pasting of the\n  exceptions and much more.</span>\n</div>\n      <div class=\"footer\">\n        Brought to you by <strong class=\"arthur\">DON'T PANIC</strong>, your\n        friendly Werkzeug powered traceback interpreter.\n      </div>\n    </div>\n\n    <div class=\"pin-prompt\">\n      <div class=\"inner\">\n        <h3>Console Locked</h3>\n        <p>\n          The console is locked and needs to be unlocked by entering the PIN.\n          You can find the PIN printed out on the standard output of your\n          shell that runs the server.\n        <form>\n          <p>PIN:\n            <input type=text name=pin size=14>\n            <input type=submit name=btn value=\"Confirm Pin\">\n        </form>\n      </div>\n    </div>\n  </body>\n</html>\n\n<!--\n\nTraceback (most recent call last):\n  File \"D:\\Anaconda\\Lib\\site-packages\\flask\\app.py\", line 2464, in __call__\n    return self.wsgi_app(environ, start_response)\n  File \"D:\\Anaconda\\Lib\\site-packages\\flask\\app.py\", line 2450, in wsgi_app\n    response = self.handle_exception(e)\n  File \"D:\\Anaconda\\Lib\\site-packages\\flask_cors\\extension.py\", line 176, in wrapped_function\n    return cors_after_request(app.make_response(f(*args, **kwargs)))\n  File \"D:\\Anaconda\\Lib\\site-packages\\flask\\app.py\", line 1867, in handle_exception\n    reraise(exc_type, exc_value, tb)\n  File \"D:\\Anaconda\\Lib\\site-packages\\flask\\_compat.py\", line 39, in reraise\n    raise value\n  File \"D:\\Anaconda\\Lib\\site-packages\\flask\\app.py\", line 2447, in wsgi_app\n    response = self.full_dispatch_request()\n  File \"D:\\Anaconda\\Lib\\site-packages\\flask\\app.py\", line 1953, in full_dispatch_request\n    return self.finalize_request(rv)\n  File \"D:\\Anaconda\\Lib\\site-packages\\flask\\app.py\", line 1968, in finalize_request\n    response = self.make_response(rv)\n  File \"D:\\Anaconda\\Lib\\site-packages\\flask\\app.py\", line 2097, in make_response\n    raise TypeError(\nTypeError: The view function did not return a valid response. The function either returned None or ended without a return statement.\n\n-->\n: 0"
     ]
    }
   ],
   "source": [
    "\n",
    "\n",
    "# flask end point which recieves data from frontend\n",
    "response_get = requests.get('http://192.168.0.17:5000/predict')\n",
    "# !!Working\n",
    "\n",
    "data = response_get.json()\n",
    "print(data)\n",
    "\n"
   ]
  },
  {
   "cell_type": "code",
   "execution_count": 26,
   "metadata": {},
   "outputs": [
    {
     "name": "stdout",
     "output_type": "stream",
     "text": [
      "Company Ticker Searched: No symbol available\n"
     ]
    }
   ],
   "source": [
    "symbol = data.get('symbol', 'No symbol available') \n",
    "print(\"Company Ticker Searched:\", symbol)"
   ]
  },
  {
   "cell_type": "code",
   "execution_count": 6,
   "metadata": {},
   "outputs": [
    {
     "data": {
      "text/html": [
       "<div>\n",
       "<style scoped>\n",
       "    .dataframe tbody tr th:only-of-type {\n",
       "        vertical-align: middle;\n",
       "    }\n",
       "\n",
       "    .dataframe tbody tr th {\n",
       "        vertical-align: top;\n",
       "    }\n",
       "\n",
       "    .dataframe thead th {\n",
       "        text-align: right;\n",
       "    }\n",
       "</style>\n",
       "<table border=\"1\" class=\"dataframe\">\n",
       "  <thead>\n",
       "    <tr style=\"text-align: right;\">\n",
       "      <th></th>\n",
       "      <th>adjClose</th>\n",
       "      <th>change</th>\n",
       "      <th>changeOverTime</th>\n",
       "      <th>changePercent</th>\n",
       "      <th>close</th>\n",
       "      <th>high</th>\n",
       "      <th>label</th>\n",
       "      <th>low</th>\n",
       "      <th>open</th>\n",
       "      <th>unadjustedVolume</th>\n",
       "      <th>volume</th>\n",
       "      <th>vwap</th>\n",
       "    </tr>\n",
       "    <tr>\n",
       "      <th>date</th>\n",
       "      <th></th>\n",
       "      <th></th>\n",
       "      <th></th>\n",
       "      <th></th>\n",
       "      <th></th>\n",
       "      <th></th>\n",
       "      <th></th>\n",
       "      <th></th>\n",
       "      <th></th>\n",
       "      <th></th>\n",
       "      <th></th>\n",
       "      <th></th>\n",
       "    </tr>\n",
       "  </thead>\n",
       "  <tbody>\n",
       "    <tr>\n",
       "      <th>2019-04-08</th>\n",
       "      <td>107.68</td>\n",
       "      <td>0.35</td>\n",
       "      <td>0.002560</td>\n",
       "      <td>0.255980</td>\n",
       "      <td>137.08</td>\n",
       "      <td>137.11</td>\n",
       "      <td>April 08, 19</td>\n",
       "      <td>136.59</td>\n",
       "      <td>136.73</td>\n",
       "      <td>2215637</td>\n",
       "      <td>2215637</td>\n",
       "      <td>136.93</td>\n",
       "    </tr>\n",
       "    <tr>\n",
       "      <th>2019-04-09</th>\n",
       "      <td>106.72</td>\n",
       "      <td>-0.53</td>\n",
       "      <td>-0.003886</td>\n",
       "      <td>-0.388590</td>\n",
       "      <td>135.86</td>\n",
       "      <td>136.66</td>\n",
       "      <td>April 09, 19</td>\n",
       "      <td>135.60</td>\n",
       "      <td>136.39</td>\n",
       "      <td>3178271</td>\n",
       "      <td>3178271</td>\n",
       "      <td>136.04</td>\n",
       "    </tr>\n",
       "    <tr>\n",
       "      <th>2019-04-10</th>\n",
       "      <td>107.40</td>\n",
       "      <td>0.78</td>\n",
       "      <td>0.005737</td>\n",
       "      <td>0.573740</td>\n",
       "      <td>136.73</td>\n",
       "      <td>137.19</td>\n",
       "      <td>April 10, 19</td>\n",
       "      <td>135.74</td>\n",
       "      <td>135.95</td>\n",
       "      <td>2801188</td>\n",
       "      <td>2801188</td>\n",
       "      <td>136.55</td>\n",
       "    </tr>\n",
       "    <tr>\n",
       "      <th>2019-04-11</th>\n",
       "      <td>107.97</td>\n",
       "      <td>-0.02</td>\n",
       "      <td>-0.000145</td>\n",
       "      <td>-0.014548</td>\n",
       "      <td>137.46</td>\n",
       "      <td>137.77</td>\n",
       "      <td>April 11, 19</td>\n",
       "      <td>136.74</td>\n",
       "      <td>137.48</td>\n",
       "      <td>3077332</td>\n",
       "      <td>3077332</td>\n",
       "      <td>137.32</td>\n",
       "    </tr>\n",
       "    <tr>\n",
       "      <th>2019-04-12</th>\n",
       "      <td>108.40</td>\n",
       "      <td>0.08</td>\n",
       "      <td>0.000580</td>\n",
       "      <td>0.058005</td>\n",
       "      <td>138.00</td>\n",
       "      <td>138.09</td>\n",
       "      <td>April 12, 19</td>\n",
       "      <td>137.38</td>\n",
       "      <td>137.92</td>\n",
       "      <td>3032249</td>\n",
       "      <td>3032249</td>\n",
       "      <td>137.82</td>\n",
       "    </tr>\n",
       "  </tbody>\n",
       "</table>\n",
       "</div>"
      ],
      "text/plain": [
       "            adjClose  change  changeOverTime  changePercent   close    high  \\\n",
       "date                                                                          \n",
       "2019-04-08    107.68    0.35        0.002560       0.255980  137.08  137.11   \n",
       "2019-04-09    106.72   -0.53       -0.003886      -0.388590  135.86  136.66   \n",
       "2019-04-10    107.40    0.78        0.005737       0.573740  136.73  137.19   \n",
       "2019-04-11    107.97   -0.02       -0.000145      -0.014548  137.46  137.77   \n",
       "2019-04-12    108.40    0.08        0.000580       0.058005  138.00  138.09   \n",
       "\n",
       "                   label     low    open  unadjustedVolume   volume    vwap  \n",
       "date                                                                         \n",
       "2019-04-08  April 08, 19  136.59  136.73           2215637  2215637  136.93  \n",
       "2019-04-09  April 09, 19  135.60  136.39           3178271  3178271  136.04  \n",
       "2019-04-10  April 10, 19  135.74  135.95           2801188  2801188  136.55  \n",
       "2019-04-11  April 11, 19  136.74  137.48           3077332  3077332  137.32  \n",
       "2019-04-12  April 12, 19  137.38  137.92           3032249  3032249  137.82  "
      ]
     },
     "execution_count": 6,
     "metadata": {},
     "output_type": "execute_result"
    }
   ],
   "source": [
    "\n",
    "df = pd.DataFrame(data[\"historical\"])\n",
    "df.to_csv('ticker_data.csv')\n",
    "# make date the index col\n",
    "df.set_index('date', inplace=True)\n",
    "df.head()"
   ]
  },
  {
   "cell_type": "code",
   "execution_count": null,
   "metadata": {},
   "outputs": [],
   "source": []
  }
 ],
 "metadata": {
  "kernelspec": {
   "display_name": "base",
   "language": "python",
   "name": "python3"
  },
  "language_info": {
   "codemirror_mode": {
    "name": "ipython",
    "version": 3
   },
   "file_extension": ".py",
   "mimetype": "text/x-python",
   "name": "python",
   "nbconvert_exporter": "python",
   "pygments_lexer": "ipython3",
   "version": "3.9.12"
  }
 },
 "nbformat": 4,
 "nbformat_minor": 2
}
