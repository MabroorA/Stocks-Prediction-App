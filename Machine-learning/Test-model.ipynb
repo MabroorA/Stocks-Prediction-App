{
 "cells": [
  {
   "cell_type": "code",
   "execution_count": 40,
   "metadata": {},
   "outputs": [
    {
     "name": "stdout",
     "output_type": "stream",
     "text": [
      "Data for NVDA For Last 5 years\n",
      "Latest Volume: 43129744\n",
      "Yearly Change Percentage:\n",
      "           close\n",
      "year            \n",
      "2019  -22.539521\n",
      "2020  -54.055917\n",
      "2021  -55.411241\n",
      "2022  106.110579\n",
      "2023  -71.093655\n",
      "2024  -46.690867\n",
      "Change over last 5 years: -94.95661605206072\n"
     ]
    }
   ],
   "source": [
    "import requests\n",
    "import pandas as pd\n",
    "import matplotlib.pyplot as plt\n",
    "\n",
    "# use base python(3.9.12)  \n",
    "# Nvidia 5 year historical data\n",
    "endpoint_url = \"https://financialmodelingprep.com/api/v3/historical-price-full/NVDA?apikey=wc2bbHWhFBL7no45kaUlx2xLHI2z2wv1\"\n",
    "\n",
    "# Fetch data from the endpoint\n",
    "response = requests.get(endpoint_url)\n",
    "data = response.json()\n",
    "\n",
    "# Check if data is fetched successfully\n",
    "if \"historical\" in data:\n",
    "    # Convert data to DataFrame\n",
    "    df = pd.DataFrame(data[\"historical\"])\n",
    "    \n",
    "    \n",
    "    print(\"Data for \"+data[\"symbol\"]+\" For Last 5 years\")\n",
    "\n",
    "\n",
    "    \n",
    "    # calculate latest Volume  \n",
    "    latest_volume = df.iloc[0]['volume']\n",
    "    print(\"Latest Volume:\", latest_volume)\n",
    "\n",
    "    # Change percentage each year \n",
    "\n",
    "    df['date'] = pd.to_datetime(df['date'])\n",
    "    df['year'] = df['date'].dt.year\n",
    "    yearly_changes = df.groupby('year').agg({'close': lambda x: (x.iloc[-1] - x.iloc[0]) / x.iloc[0] * 100})\n",
    "    print(\"Yearly Change Percentage:\")\n",
    "    print(yearly_changes)\n",
    "\n",
    "    # Change over last 5 years \n",
    "\n",
    "    change_over_5_years = (df.iloc[-1]['close'] - df.iloc[0]['close']) / df.iloc[0]['close'] * 100\n",
    "    print(\"Change over last 5 years:\", change_over_5_years)\n",
    "\n",
    "    # data analysis / visualization \n",
    "    \n",
    "\n",
    "else:\n",
    "    print(\"Failed to fetch data from the API endpoint.\")\n"
   ]
  },
  {
   "cell_type": "markdown",
   "metadata": {},
   "source": [
    "## Libraries"
   ]
  },
  {
   "cell_type": "code",
   "execution_count": 38,
   "metadata": {},
   "outputs": [],
   "source": [
    "import requests\n",
    "import pandas as pd\n",
    "import numpy as np\n",
    "from sklearn.model_selection import train_test_split\n",
    "from sklearn.preprocessing import MinMaxScaler\n",
    "from tensorflow.keras.models import Sequential\n",
    "from tensorflow.keras.layers import LSTM, Dense\n",
    "import matplotlib.pyplot as plt"
   ]
  },
  {
   "cell_type": "markdown",
   "metadata": {},
   "source": [
    "## Fetching Data"
   ]
  },
  {
   "cell_type": "code",
   "execution_count": 39,
   "metadata": {},
   "outputs": [],
   "source": [
    "endpoint_url = \"https://financialmodelingprep.com/api/v3/historical-price-full/NVDA?apikey=wc2bbHWhFBL7no45kaUlx2xLHI2z2wv1\"\n",
    "response = requests.get(endpoint_url)\n",
    "data = response.json()"
   ]
  },
  {
   "cell_type": "markdown",
   "metadata": {},
   "source": [
    "## data preprocessing\n"
   ]
  },
  {
   "cell_type": "code",
   "execution_count": 40,
   "metadata": {},
   "outputs": [],
   "source": [
    "if \"historical\" in data:\n",
    "    # Convert data to DataFrame\n",
    "    df = pd.DataFrame(data[\"historical\"])\n",
    "    \n",
    "    # Preprocessing\n",
    "    df['date'] = pd.to_datetime(df['date'])\n",
    "    df.set_index('date', inplace=True)\n",
    "    \n",
    "else:\n",
    "    print(\"Failed to fetch data from the API endpoint.\")"
   ]
  },
  {
   "cell_type": "markdown",
   "metadata": {},
   "source": [
    "## Feature selection\n",
    "\n"
   ]
  },
  {
   "cell_type": "code",
   "execution_count": 41,
   "metadata": {},
   "outputs": [
    {
     "data": {
      "text/html": [
       "<div>\n",
       "<style scoped>\n",
       "    .dataframe tbody tr th:only-of-type {\n",
       "        vertical-align: middle;\n",
       "    }\n",
       "\n",
       "    .dataframe tbody tr th {\n",
       "        vertical-align: top;\n",
       "    }\n",
       "\n",
       "    .dataframe thead th {\n",
       "        text-align: right;\n",
       "    }\n",
       "</style>\n",
       "<table border=\"1\" class=\"dataframe\">\n",
       "  <thead>\n",
       "    <tr style=\"text-align: right;\">\n",
       "      <th></th>\n",
       "      <th>open</th>\n",
       "      <th>high</th>\n",
       "      <th>low</th>\n",
       "      <th>close</th>\n",
       "      <th>volume</th>\n",
       "    </tr>\n",
       "    <tr>\n",
       "      <th>date</th>\n",
       "      <th></th>\n",
       "      <th></th>\n",
       "      <th></th>\n",
       "      <th></th>\n",
       "      <th></th>\n",
       "    </tr>\n",
       "  </thead>\n",
       "  <tbody>\n",
       "    <tr>\n",
       "      <th>2024-03-28</th>\n",
       "      <td>900.00</td>\n",
       "      <td>913.00</td>\n",
       "      <td>891.93</td>\n",
       "      <td>903.56</td>\n",
       "      <td>43129744</td>\n",
       "    </tr>\n",
       "    <tr>\n",
       "      <th>2024-03-27</th>\n",
       "      <td>931.12</td>\n",
       "      <td>932.40</td>\n",
       "      <td>891.23</td>\n",
       "      <td>902.50</td>\n",
       "      <td>58606723</td>\n",
       "    </tr>\n",
       "    <tr>\n",
       "      <th>2024-03-26</th>\n",
       "      <td>958.51</td>\n",
       "      <td>963.75</td>\n",
       "      <td>925.02</td>\n",
       "      <td>925.61</td>\n",
       "      <td>51364758</td>\n",
       "    </tr>\n",
       "    <tr>\n",
       "      <th>2024-03-25</th>\n",
       "      <td>939.41</td>\n",
       "      <td>967.66</td>\n",
       "      <td>935.10</td>\n",
       "      <td>950.02</td>\n",
       "      <td>55213608</td>\n",
       "    </tr>\n",
       "    <tr>\n",
       "      <th>2024-03-22</th>\n",
       "      <td>911.41</td>\n",
       "      <td>947.78</td>\n",
       "      <td>908.34</td>\n",
       "      <td>942.89</td>\n",
       "      <td>58671936</td>\n",
       "    </tr>\n",
       "  </tbody>\n",
       "</table>\n",
       "</div>"
      ],
      "text/plain": [
       "              open    high     low   close    volume\n",
       "date                                                \n",
       "2024-03-28  900.00  913.00  891.93  903.56  43129744\n",
       "2024-03-27  931.12  932.40  891.23  902.50  58606723\n",
       "2024-03-26  958.51  963.75  925.02  925.61  51364758\n",
       "2024-03-25  939.41  967.66  935.10  950.02  55213608\n",
       "2024-03-22  911.41  947.78  908.34  942.89  58671936"
      ]
     },
     "execution_count": 41,
     "metadata": {},
     "output_type": "execute_result"
    }
   ],
   "source": [
    "\n",
    "features = ['open', 'high', 'low', 'close', 'volume']\n",
    "target = ['close']\n",
    "\n",
    "# extract targhet and features from dataframe\n",
    "X = df[features]\n",
    "y = df[target]\n",
    "\n",
    "F = df[features] \n",
    "F.head()\n",
    "# F.describe()"
   ]
  },
  {
   "cell_type": "markdown",
   "metadata": {},
   "source": [
    "## Training (70%) and Testing (30%) "
   ]
  },
  {
   "cell_type": "code",
   "execution_count": 42,
   "metadata": {},
   "outputs": [],
   "source": [
    "X_train, X_test, y_train, y_test = train_test_split(X, y, test_size=0.3, random_state=42)\n"
   ]
  },
  {
   "cell_type": "markdown",
   "metadata": {},
   "source": [
    "## Normalizing "
   ]
  },
  {
   "cell_type": "code",
   "execution_count": 43,
   "metadata": {},
   "outputs": [],
   "source": [
    "scaler = MinMaxScaler()\n",
    "X_train_scaled = scaler.fit_transform(X_train)\n",
    "X_test_scaled = scaler.transform(X_test)\n"
   ]
  },
  {
   "cell_type": "markdown",
   "metadata": {},
   "source": [
    "## Time series Dataset"
   ]
  },
  {
   "cell_type": "code",
   "execution_count": 44,
   "metadata": {},
   "outputs": [],
   "source": [
    "\n",
    "time_steps = 10\n",
    "def create_dataset(X, y, time_steps):\n",
    "    Xs, ys = [], []\n",
    "    for i in range(len(X) - time_steps):\n",
    "        v = X[i:(i + time_steps)]\n",
    "        Xs.append(v)\n",
    "        ys.append(y[i + time_steps])\n",
    "    return np.array(Xs), np.array(ys)"
   ]
  },
  {
   "cell_type": "markdown",
   "metadata": {},
   "source": [
    "## Number of cycles"
   ]
  },
  {
   "cell_type": "code",
   "execution_count": null,
   "metadata": {},
   "outputs": [],
   "source": []
  },
  {
   "cell_type": "markdown",
   "metadata": {},
   "source": [
    "## Creating Training and Testing dataset"
   ]
  },
  {
   "cell_type": "code",
   "execution_count": 45,
   "metadata": {},
   "outputs": [],
   "source": [
    "X_train, y_train = create_dataset(X_train_scaled, y_train.values, time_steps)\n",
    "X_test, y_test = create_dataset(X_test_scaled, y_test.values, time_steps)"
   ]
  },
  {
   "cell_type": "markdown",
   "metadata": {},
   "source": [
    "## Building LSTM Model"
   ]
  },
  {
   "cell_type": "code",
   "execution_count": 46,
   "metadata": {},
   "outputs": [],
   "source": [
    "model = Sequential([\n",
    "    LSTM(64, input_shape=(X_train.shape[1], X_train.shape[2])),\n",
    "    Dense(1)\n",
    "])\n",
    "\n",
    "model.compile(optimizer='adam', loss='mse')"
   ]
  },
  {
   "cell_type": "markdown",
   "metadata": {},
   "source": [
    "# Training the model "
   ]
  },
  {
   "cell_type": "code",
   "execution_count": 47,
   "metadata": {},
   "outputs": [
    {
     "name": "stdout",
     "output_type": "stream",
     "text": [
      "Epoch 1/50\n",
      "49/49 [==============================] - 2s 14ms/step - loss: 72685.0469 - val_loss: 78451.3750\n",
      "Epoch 2/50\n",
      "49/49 [==============================] - 0s 3ms/step - loss: 68826.4219 - val_loss: 76291.0625\n",
      "Epoch 3/50\n",
      "49/49 [==============================] - 0s 3ms/step - loss: 67142.3750 - val_loss: 74796.2891\n",
      "Epoch 4/50\n",
      "49/49 [==============================] - 0s 3ms/step - loss: 65765.0703 - val_loss: 73450.3359\n",
      "Epoch 5/50\n",
      "49/49 [==============================] - 0s 3ms/step - loss: 64494.8711 - val_loss: 72186.2109\n",
      "Epoch 6/50\n",
      "49/49 [==============================] - 0s 3ms/step - loss: 63292.2773 - val_loss: 70980.3594\n",
      "Epoch 7/50\n",
      "49/49 [==============================] - 0s 3ms/step - loss: 62140.9844 - val_loss: 69821.3281\n",
      "Epoch 8/50\n",
      "49/49 [==============================] - 0s 3ms/step - loss: 61032.4297 - val_loss: 68702.5078\n",
      "Epoch 9/50\n",
      "49/49 [==============================] - 0s 3ms/step - loss: 59961.3633 - val_loss: 67619.6953\n",
      "Epoch 10/50\n",
      "49/49 [==============================] - 0s 3ms/step - loss: 58924.3633 - val_loss: 66569.9453\n",
      "Epoch 11/50\n",
      "49/49 [==============================] - 0s 3ms/step - loss: 57918.9062 - val_loss: 65551.0703\n",
      "Epoch 12/50\n",
      "49/49 [==============================] - 0s 3ms/step - loss: 56943.1328 - val_loss: 64561.3906\n",
      "Epoch 13/50\n",
      "49/49 [==============================] - 0s 3ms/step - loss: 55995.5195 - val_loss: 63599.5352\n",
      "Epoch 14/50\n",
      "49/49 [==============================] - 0s 3ms/step - loss: 55074.8438 - val_loss: 62664.3867\n",
      "Epoch 15/50\n",
      "49/49 [==============================] - 0s 3ms/step - loss: 54180.1016 - val_loss: 61754.9414\n",
      "Epoch 16/50\n",
      "49/49 [==============================] - 0s 3ms/step - loss: 53310.3398 - val_loss: 60870.3672\n",
      "Epoch 17/50\n",
      "49/49 [==============================] - 0s 3ms/step - loss: 52464.8086 - val_loss: 60009.9023\n",
      "Epoch 18/50\n",
      "49/49 [==============================] - 0s 3ms/step - loss: 51642.7578 - val_loss: 59172.8516\n",
      "Epoch 19/50\n",
      "49/49 [==============================] - 0s 3ms/step - loss: 50843.5352 - val_loss: 58358.5859\n",
      "Epoch 20/50\n",
      "49/49 [==============================] - 0s 3ms/step - loss: 50066.5781 - val_loss: 57566.5273\n",
      "Epoch 21/50\n",
      "49/49 [==============================] - 0s 3ms/step - loss: 49311.2891 - val_loss: 56796.1094\n",
      "Epoch 22/50\n",
      "49/49 [==============================] - 0s 3ms/step - loss: 48577.1484 - val_loss: 56046.8398\n",
      "Epoch 23/50\n",
      "49/49 [==============================] - 0s 3ms/step - loss: 47863.6641 - val_loss: 55318.2344\n",
      "Epoch 24/50\n",
      "49/49 [==============================] - 0s 3ms/step - loss: 47170.3789 - val_loss: 54609.8086\n",
      "Epoch 25/50\n",
      "49/49 [==============================] - 0s 3ms/step - loss: 46496.8164 - val_loss: 53921.1367\n",
      "Epoch 26/50\n",
      "49/49 [==============================] - 0s 3ms/step - loss: 45842.5664 - val_loss: 53251.8008\n",
      "Epoch 27/50\n",
      "49/49 [==============================] - 0s 3ms/step - loss: 45207.1875 - val_loss: 52601.3789\n",
      "Epoch 28/50\n",
      "49/49 [==============================] - 0s 3ms/step - loss: 44590.3125 - val_loss: 51969.4648\n",
      "Epoch 29/50\n",
      "49/49 [==============================] - 0s 3ms/step - loss: 43991.5352 - val_loss: 51355.6992\n",
      "Epoch 30/50\n",
      "49/49 [==============================] - 0s 3ms/step - loss: 43410.4844 - val_loss: 50759.6992\n",
      "Epoch 31/50\n",
      "49/49 [==============================] - 0s 3ms/step - loss: 42846.7773 - val_loss: 50181.1211\n",
      "Epoch 32/50\n",
      "49/49 [==============================] - 0s 3ms/step - loss: 42300.0898 - val_loss: 49619.5742\n",
      "Epoch 33/50\n",
      "49/49 [==============================] - 0s 3ms/step - loss: 41770.0469 - val_loss: 49074.7461\n",
      "Epoch 34/50\n",
      "49/49 [==============================] - 0s 3ms/step - loss: 41256.3281 - val_loss: 48546.2930\n",
      "Epoch 35/50\n",
      "49/49 [==============================] - 0s 3ms/step - loss: 40758.5781 - val_loss: 48033.8789\n",
      "Epoch 36/50\n",
      "49/49 [==============================] - 0s 3ms/step - loss: 40276.4922 - val_loss: 47537.1875\n",
      "Epoch 37/50\n",
      "49/49 [==============================] - 0s 3ms/step - loss: 39809.7422 - val_loss: 47055.9023\n",
      "Epoch 38/50\n",
      "49/49 [==============================] - 0s 3ms/step - loss: 39358.0117 - val_loss: 46589.7109\n",
      "Epoch 39/50\n",
      "49/49 [==============================] - 0s 3ms/step - loss: 38920.9883 - val_loss: 46138.3086\n",
      "Epoch 40/50\n",
      "49/49 [==============================] - 0s 3ms/step - loss: 38498.3711 - val_loss: 45701.3906\n",
      "Epoch 41/50\n",
      "49/49 [==============================] - 0s 3ms/step - loss: 38089.8711 - val_loss: 45278.6641\n",
      "Epoch 42/50\n",
      "49/49 [==============================] - 0s 3ms/step - loss: 37695.1758 - val_loss: 44869.8398\n",
      "Epoch 43/50\n",
      "49/49 [==============================] - 0s 3ms/step - loss: 37314.0273 - val_loss: 44474.6133\n",
      "Epoch 44/50\n",
      "49/49 [==============================] - 0s 3ms/step - loss: 36946.0859 - val_loss: 44092.7227\n",
      "Epoch 45/50\n",
      "49/49 [==============================] - 0s 3ms/step - loss: 36591.1016 - val_loss: 43723.8633\n",
      "Epoch 46/50\n",
      "49/49 [==============================] - 0s 3ms/step - loss: 36248.7930 - val_loss: 43367.7773\n",
      "Epoch 47/50\n",
      "49/49 [==============================] - 0s 3ms/step - loss: 35918.8711 - val_loss: 43024.1758\n",
      "Epoch 48/50\n",
      "49/49 [==============================] - 0s 3ms/step - loss: 35601.0703 - val_loss: 42692.7891\n",
      "Epoch 49/50\n",
      "49/49 [==============================] - 0s 3ms/step - loss: 35295.0977 - val_loss: 42373.3555\n",
      "Epoch 50/50\n",
      "49/49 [==============================] - 0s 3ms/step - loss: 35000.7031 - val_loss: 42065.5938\n"
     ]
    }
   ],
   "source": [
    "history = model.fit(\n",
    "    X_train, y_train,\n",
    "    epochs=50,\n",
    "    batch_size=16,\n",
    "    validation_split=0.1,\n",
    "    shuffle=False\n",
    ")"
   ]
  },
  {
   "cell_type": "markdown",
   "metadata": {},
   "source": [
    "## Training and Validation loss"
   ]
  },
  {
   "cell_type": "code",
   "execution_count": 48,
   "metadata": {},
   "outputs": [
    {
     "data": {
      "image/png": "[encoded data removed]",
      "text/plain": [
       "<Figure size 432x288 with 1 Axes>"
      ]
     },
     "metadata": {
      "needs_background": "light"
     },
     "output_type": "display_data"
    }
   ],
   "source": [
    "# plotting \n",
    "plt.plot(history.history['loss'], label='Training Loss')\n",
    "plt.plot(history.history['val_loss'], label='Validation Loss')\n",
    "plt.xlabel('Epochs')\n",
    "plt.ylabel('Loss')\n",
    "plt.legend()\n",
    "plt.show()"
   ]
  },
  {
   "cell_type": "code",
   "execution_count": 49,
   "metadata": {},
   "outputs": [
    {
     "name": "stdout",
     "output_type": "stream",
     "text": [
      "12/12 [==============================] - 0s 1ms/step\n"
     ]
    }
   ],
   "source": [
    "# Make predictions on the test data\n",
    "y_pred = model.predict(X_test)"
   ]
  },
  {
   "cell_type": "markdown",
   "metadata": {},
   "source": [
    "# Prediction vs Actual"
   ]
  },
  {
   "cell_type": "code",
   "execution_count": 52,
   "metadata": {},
   "outputs": [
    {
     "ename": "ValueError",
     "evalue": "operands could not be broadcast together with shapes (368,11) (5,) (368,11) ",
     "output_type": "error",
     "traceback": [
      "\u001b[1;31m---------------------------------------------------------------------------\u001b[0m",
      "\u001b[1;31mValueError\u001b[0m                                Traceback (most recent call last)",
      "Input \u001b[1;32mIn [52]\u001b[0m, in \u001b[0;36m<cell line: 2>\u001b[1;34m()\u001b[0m\n\u001b[0;32m      1\u001b[0m \u001b[38;5;66;03m# Inverse transform the predicted and actual values\u001b[39;00m\n\u001b[1;32m----> 2\u001b[0m y_pred_inv \u001b[38;5;241m=\u001b[39m \u001b[43mscaler\u001b[49m\u001b[38;5;241;43m.\u001b[39;49m\u001b[43minverse_transform\u001b[49m\u001b[43m(\u001b[49m\u001b[43mnp\u001b[49m\u001b[38;5;241;43m.\u001b[39;49m\u001b[43mconcatenate\u001b[49m\u001b[43m(\u001b[49m\u001b[43m(\u001b[49m\u001b[43mX_test\u001b[49m\u001b[43m[\u001b[49m\u001b[43m:\u001b[49m\u001b[43m,\u001b[49m\u001b[43m \u001b[49m\u001b[43m:\u001b[49m\u001b[43m,\u001b[49m\u001b[43m \u001b[49m\u001b[38;5;241;43m3\u001b[39;49m\u001b[43m]\u001b[49m\u001b[43m,\u001b[49m\u001b[43m \u001b[49m\u001b[43my_pred\u001b[49m\u001b[43m)\u001b[49m\u001b[43m,\u001b[49m\u001b[43m \u001b[49m\u001b[43maxis\u001b[49m\u001b[38;5;241;43m=\u001b[39;49m\u001b[38;5;241;43m1\u001b[39;49m\u001b[43m)\u001b[49m\u001b[43m)\u001b[49m[:, \u001b[38;5;241m-\u001b[39m\u001b[38;5;241m1\u001b[39m]\n\u001b[0;32m      3\u001b[0m y_test_inv \u001b[38;5;241m=\u001b[39m scaler\u001b[38;5;241m.\u001b[39minverse_transform(np\u001b[38;5;241m.\u001b[39mconcatenate((X_test[:, :, \u001b[38;5;241m3\u001b[39m], y_test\u001b[38;5;241m.\u001b[39mreshape(\u001b[38;5;241m-\u001b[39m\u001b[38;5;241m1\u001b[39m, \u001b[38;5;241m1\u001b[39m)), axis\u001b[38;5;241m=\u001b[39m\u001b[38;5;241m1\u001b[39m))[:, \u001b[38;5;241m-\u001b[39m\u001b[38;5;241m1\u001b[39m]\n\u001b[0;32m      5\u001b[0m \u001b[38;5;66;03m# Plotting\u001b[39;00m\n",
      "File \u001b[1;32md:\\Anaconda\\lib\\site-packages\\sklearn\\preprocessing\\_data.py:529\u001b[0m, in \u001b[0;36mMinMaxScaler.inverse_transform\u001b[1;34m(self, X)\u001b[0m\n\u001b[0;32m    523\u001b[0m check_is_fitted(\u001b[38;5;28mself\u001b[39m)\n\u001b[0;32m    525\u001b[0m X \u001b[38;5;241m=\u001b[39m check_array(\n\u001b[0;32m    526\u001b[0m     X, copy\u001b[38;5;241m=\u001b[39m\u001b[38;5;28mself\u001b[39m\u001b[38;5;241m.\u001b[39mcopy, dtype\u001b[38;5;241m=\u001b[39mFLOAT_DTYPES, force_all_finite\u001b[38;5;241m=\u001b[39m\u001b[38;5;124m\"\u001b[39m\u001b[38;5;124mallow-nan\u001b[39m\u001b[38;5;124m\"\u001b[39m\n\u001b[0;32m    527\u001b[0m )\n\u001b[1;32m--> 529\u001b[0m X \u001b[38;5;241m-\u001b[39m\u001b[38;5;241m=\u001b[39m \u001b[38;5;28mself\u001b[39m\u001b[38;5;241m.\u001b[39mmin_\n\u001b[0;32m    530\u001b[0m X \u001b[38;5;241m/\u001b[39m\u001b[38;5;241m=\u001b[39m \u001b[38;5;28mself\u001b[39m\u001b[38;5;241m.\u001b[39mscale_\n\u001b[0;32m    531\u001b[0m \u001b[38;5;28;01mreturn\u001b[39;00m X\n",
      "\u001b[1;31mValueError\u001b[0m: operands could not be broadcast together with shapes (368,11) (5,) (368,11) "
     ]
    }
   ],
   "source": [
    "\n",
    "\n",
    "\n",
    "# Inverse transform the predicted and actual values\n",
    "y_pred_inv = scaler.inverse_transform(np.concatenate((X_test[:, :, 3], y_pred), axis=1))[:, -1]\n",
    "y_test_inv = scaler.inverse_transform(np.concatenate((X_test[:, :, 3], y_test.reshape(-1, 1)), axis=1))[:, -1]\n",
    "\n",
    "# Plotting\n",
    "plt.figure(figsize=(10, 6))\n",
    "plt.plot(y_test_inv, label='Actual')\n",
    "plt.plot(y_pred_inv, label='Predicted')\n",
    "plt.title('Actual vs Predicted')\n",
    "plt.xlabel('Time')\n",
    "plt.ylabel('Close Price')\n",
    "plt.legend()\n",
    "plt.show()"
   ]
  },
  {
   "cell_type": "code",
   "execution_count": null,
   "metadata": {},
   "outputs": [
    {
     "name": "stdout",
     "output_type": "stream",
     "text": [
      "1.21.5\n"
     ]
    }
   ],
   "source": [
    "print(np.__version__)"
   ]
  },
  {
   "cell_type": "code",
   "execution_count": null,
   "metadata": {},
   "outputs": [],
   "source": []
  },
  {
   "cell_type": "code",
   "execution_count": null,
   "metadata": {},
   "outputs": [],
   "source": []
  }
 ],
 "metadata": {
  "kernelspec": {
   "display_name": "Python 3",
   "language": "python",
   "name": "python3"
  },
  "language_info": {
   "codemirror_mode": {
    "name": "ipython",
    "version": 3
   },
   "file_extension": ".py",
   "mimetype": "text/x-python",
   "name": "python",
   "nbconvert_exporter": "python",
   "pygments_lexer": "ipython3",
   "version": "3.9.12"
  }
 },
 "nbformat": 4,
 "nbformat_minor": 2
}
